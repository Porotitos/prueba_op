{
  "nbformat": 4,
  "nbformat_minor": 0,
  "metadata": {
    "colab": {
      "provenance": []
    },
    "kernelspec": {
      "name": "python3",
      "display_name": "Python 3"
    },
    "language_info": {
      "name": "python"
    }
  },
  "cells": [
    {
      "cell_type": "code",
      "execution_count": 1,
      "metadata": {
        "colab": {
          "base_uri": "https://localhost:8080/"
        },
        "id": "xQ7I2ttwPiDR",
        "outputId": "396c982a-995e-4018-d695-2ef5fa4bf426"
      },
      "outputs": [
        {
          "output_type": "stream",
          "name": "stdout",
          "text": [
            "⏬ Downloading https://github.com/conda-forge/miniforge/releases/download/25.3.1-0/Miniforge3-Linux-x86_64.sh...\n",
            "📦 Installing...\n",
            "📌 Adjusting configuration...\n",
            "🩹 Patching environment...\n",
            "⏲ Done in 0:00:15\n",
            "🔁 Restarting kernel...\n"
          ]
        }
      ],
      "source": [
        "!pip install -q condacolab\n",
        "import condacolab\n",
        "condacolab.install_from_url(\"https://github.com/conda-forge/miniforge/releases/download/25.3.1-0/Miniforge3-Linux-x86_64.sh\")"
      ]
    },
    {
      "cell_type": "code",
      "source": [
        "!conda install -q pyscipopt"
      ],
      "metadata": {
        "colab": {
          "base_uri": "https://localhost:8080/"
        },
        "id": "v5qI9IJHPlCf",
        "outputId": "744c0121-ff1b-403c-b553-3e40eae2b1d4"
      },
      "execution_count": 1,
      "outputs": [
        {
          "output_type": "stream",
          "name": "stdout",
          "text": [
            "Channels:\n",
            " - conda-forge\n",
            "Platform: linux-64\n",
            "Collecting package metadata (repodata.json): ...working... done\n",
            "Solving environment: ...working... done\n",
            "\n",
            "# All requested packages already installed.\n",
            "\n"
          ]
        }
      ]
    },
    {
      "cell_type": "code",
      "source": [
        "# Importamos la clase Model de pyscipopt\n",
        "from pyscipopt import Model, quicksum\n",
        "# Importamos numpy\n",
        "import numpy as np"
      ],
      "metadata": {
        "id": "F-VLev9tPtpM"
      },
      "execution_count": 2,
      "outputs": []
    },
    {
      "cell_type": "markdown",
      "source": [
        "#Ejercicio 6\n"
      ],
      "metadata": {
        "id": "Jn1h0ztL6ODl"
      }
    },
    {
      "cell_type": "code",
      "source": [
        "model6 = Model('Alquiler')"
      ],
      "metadata": {
        "id": "uc2fPiHWP1Zj"
      },
      "execution_count": null,
      "outputs": []
    },
    {
      "cell_type": "code",
      "source": [
        "g=np.array([[12, 22, 38, 40], [0, 13, 20, 29], [0, 0, 10, 19], [0, 0, 0, 12]])"
      ],
      "metadata": {
        "id": "jYbHWKS7TB21"
      },
      "execution_count": null,
      "outputs": []
    },
    {
      "cell_type": "code",
      "source": [
        "\n",
        "x = np.empty((4, 4), dtype='object')\n",
        "\n",
        "for i in range(0,4):\n",
        "  for k in range(0,4):\n",
        "    x[i, k] = model6.addVar(f'x_{i}_{k}', vtype='B')"
      ],
      "metadata": {
        "id": "-VG8rIUvP7B7"
      },
      "execution_count": null,
      "outputs": []
    },
    {
      "cell_type": "code",
      "source": [
        "for i in range(0,4):\n",
        "  model6.addCons(quicksum(x[i,j] for j in range(i,4))<=1)\n",
        "  for j in range(i,4):\n",
        "    model6.addCons(quicksum(x[k,j] for k in range (i,4))<=1)\n",
        "    model6.addCons(quicksum(x[k, l] for k in range(i,j) for l in range(i+1,4))<=1)"
      ],
      "metadata": {
        "id": "jAxBoEeHQoz_"
      },
      "execution_count": null,
      "outputs": []
    },
    {
      "cell_type": "code",
      "source": [
        "model6.setObjective(sum(sum(g[i,j]*x[i,j] for i in range (0,4))for j in range (0,4)), sense='maximize')"
      ],
      "metadata": {
        "id": "wY0gvRfkXbbC"
      },
      "execution_count": null,
      "outputs": []
    },
    {
      "cell_type": "code",
      "source": [
        "model6.redirectOutput()\n",
        "model6.optimize()"
      ],
      "metadata": {
        "colab": {
          "base_uri": "https://localhost:8080/"
        },
        "id": "lkWBBPD8Xq7P",
        "outputId": "801edc95-25fb-4cd4-d19f-7da982a7206e"
      },
      "execution_count": null,
      "outputs": [
        {
          "output_type": "stream",
          "name": "stdout",
          "text": [
            "feasible solution found by trivial heuristic after 0.0 seconds, objective value 0.000000e+00\n",
            "presolving:\n",
            "(round 1, fast)       6 del vars, 10 del conss, 0 add conss, 0 chg bounds, 0 chg sides, 0 chg coeffs, 0 upgd conss, 0 impls, 14 clqs\n",
            "   (0.0s) running MILP presolver\n",
            "   (0.0s) MILP presolver found nothing\n",
            "(round 2, exhaustive) 6 del vars, 21 del conss, 0 add conss, 0 chg bounds, 11 chg sides, 0 chg coeffs, 0 upgd conss, 0 impls, 14 clqs\n",
            "   (0.0s) running MILP presolver\n",
            "   (0.0s) MILP presolver (2 rounds): 0 aggregations, 4 fixings, 0 bound changes\n",
            "(round 3, medium)     10 del vars, 24 del conss, 3 add conss, 0 chg bounds, 11 chg sides, 0 chg coeffs, 0 upgd conss, 0 impls, 7 clqs\n",
            "(round 4, exhaustive) 10 del vars, 24 del conss, 3 add conss, 0 chg bounds, 11 chg sides, 0 chg coeffs, 3 upgd conss, 0 impls, 7 clqs\n",
            "(round 5, medium)     13 del vars, 24 del conss, 3 add conss, 0 chg bounds, 11 chg sides, 3 chg coeffs, 3 upgd conss, 0 impls, 3 clqs\n",
            "(round 6, fast)       15 del vars, 27 del conss, 3 add conss, 0 chg bounds, 11 chg sides, 3 chg coeffs, 3 upgd conss, 0 impls, 0 clqs\n",
            "presolving (7 rounds: 7 fast, 5 medium, 3 exhaustive):\n",
            " 16 deleted vars, 27 deleted constraints, 3 added constraints, 0 tightened bounds, 0 added holes, 11 changed sides, 3 changed coefficients\n",
            " 0 implications, 0 cliques\n",
            "transformed 1/2 original solutions to the transformed problem space\n",
            "Presolving Time: 0.00\n",
            "\n",
            "SCIP Status        : problem is solved [optimal solution found]\n",
            "Solving Time (sec) : 0.00\n",
            "Solving Nodes      : 0\n",
            "Primal Bound       : +5.00000000000000e+01 (2 solutions)\n",
            "Dual Bound         : +5.00000000000000e+01\n",
            "Gap                : 0.00 %\n"
          ]
        }
      ]
    },
    {
      "cell_type": "code",
      "source": [
        "sol = model6.getBestSol()"
      ],
      "metadata": {
        "id": "rWiCSmWZZe_w"
      },
      "execution_count": null,
      "outputs": []
    },
    {
      "cell_type": "code",
      "source": [
        "model6.writeSol(sol, 'Alq.sol')"
      ],
      "metadata": {
        "id": "rTAO1mD8ZkV3"
      },
      "execution_count": null,
      "outputs": []
    },
    {
      "cell_type": "markdown",
      "source": [
        "#Ejercicio 8\n"
      ],
      "metadata": {
        "id": "HNO-tmSk6S_e"
      }
    },
    {
      "cell_type": "code",
      "source": [
        "from itertools import combinations\n"
      ],
      "metadata": {
        "id": "kVejgh05Zmtf"
      },
      "execution_count": null,
      "outputs": []
    },
    {
      "cell_type": "code",
      "source": [
        "lista_nums=list(range(0,17))\n",
        "print(list(combinations(lista_nums, 2)))"
      ],
      "metadata": {
        "colab": {
          "base_uri": "https://localhost:8080/"
        },
        "id": "xETNP3SfWyde",
        "outputId": "3f571bf4-8c11-49e9-9b12-08d470c0c4e0"
      },
      "execution_count": null,
      "outputs": [
        {
          "output_type": "stream",
          "name": "stdout",
          "text": [
            "[(0, 1), (0, 2), (0, 3), (0, 4), (0, 5), (0, 6), (0, 7), (0, 8), (0, 9), (0, 10), (0, 11), (0, 12), (0, 13), (0, 14), (0, 15), (0, 16), (1, 2), (1, 3), (1, 4), (1, 5), (1, 6), (1, 7), (1, 8), (1, 9), (1, 10), (1, 11), (1, 12), (1, 13), (1, 14), (1, 15), (1, 16), (2, 3), (2, 4), (2, 5), (2, 6), (2, 7), (2, 8), (2, 9), (2, 10), (2, 11), (2, 12), (2, 13), (2, 14), (2, 15), (2, 16), (3, 4), (3, 5), (3, 6), (3, 7), (3, 8), (3, 9), (3, 10), (3, 11), (3, 12), (3, 13), (3, 14), (3, 15), (3, 16), (4, 5), (4, 6), (4, 7), (4, 8), (4, 9), (4, 10), (4, 11), (4, 12), (4, 13), (4, 14), (4, 15), (4, 16), (5, 6), (5, 7), (5, 8), (5, 9), (5, 10), (5, 11), (5, 12), (5, 13), (5, 14), (5, 15), (5, 16), (6, 7), (6, 8), (6, 9), (6, 10), (6, 11), (6, 12), (6, 13), (6, 14), (6, 15), (6, 16), (7, 8), (7, 9), (7, 10), (7, 11), (7, 12), (7, 13), (7, 14), (7, 15), (7, 16), (8, 9), (8, 10), (8, 11), (8, 12), (8, 13), (8, 14), (8, 15), (8, 16), (9, 10), (9, 11), (9, 12), (9, 13), (9, 14), (9, 15), (9, 16), (10, 11), (10, 12), (10, 13), (10, 14), (10, 15), (10, 16), (11, 12), (11, 13), (11, 14), (11, 15), (11, 16), (12, 13), (12, 14), (12, 15), (12, 16), (13, 14), (13, 15), (13, 16), (14, 15), (14, 16), (15, 16)]\n"
          ]
        }
      ]
    },
    {
      "cell_type": "markdown",
      "source": [
        "###Modelo 1\n"
      ],
      "metadata": {
        "id": "ciSuaB2h7NDg"
      }
    },
    {
      "cell_type": "code",
      "source": [
        "model8_1=Model(\"Viajante_1\")\n",
        "\n",
        "d = np.loadtxt('ATSP_17.csv', delimiter=';')\n",
        "combs={}\n",
        "\n",
        "x=np.empty((17,17), dtype='object')\n",
        "for i in range(17):\n",
        "  for j in range(17):\n",
        "    x[i,j]=model8_1.addVar(f'x_{i}_{j}', vtype='B')\n",
        "\n",
        "for j in range(17):\n",
        "  model8_1.addCons(x[j,j]==0)\n",
        "  model8_1.addCons(sum(x[i,j] for i in range(17))==1)\n",
        "  model8_1.addCons(sum(x[j,i] for i in range(17))==1)\n",
        "\n",
        "for i in range(2,17):\n",
        "  combs[i]=list(combinations(lista_nums, i))\n",
        "  for elem in combs[i]:\n",
        "    model8_1.addCons(sum(x[i,j] for i in elem for j in elem)<=len(elem)-1)\n",
        "\n",
        "\n",
        "model8_1.setObjective(sum(d[i,j]*x[i,j] for i in range(17) for j in range(17)), sense='minimize')\n",
        "\n",
        "model8_1.redirectOutput()\n",
        "model8_1.optimize()\n",
        "sol = model8_1.getBestSol()\n",
        "model8_1.writeSol(sol, 'Viaj1.sol')\n",
        "\n",
        "#tarda 84.60"
      ],
      "metadata": {
        "id": "oKtaicrY7Md2",
        "colab": {
          "base_uri": "https://localhost:8080/"
        },
        "outputId": "a31d05d6-3231-439a-fff1-e6074fba910b"
      },
      "execution_count": null,
      "outputs": [
        {
          "output_type": "stream",
          "name": "stdout",
          "text": [
            "presolving:\n",
            "(round 1, fast)       17 del vars, 17 del conss, 0 add conss, 17 chg bounds, 0 chg sides, 0 chg coeffs, 0 upgd conss, 0 impls, 170 clqs\n",
            "   (13.2s) running MILP presolver\n",
            "   (16.5s) MILP presolver found nothing\n",
            "(round 2, exhaustive) 17 del vars, 17 del conss, 0 add conss, 17 chg bounds, 0 chg sides, 0 chg coeffs, 131087 upgd conss, 0 impls, 170 clqs\n",
            "   (54.6s) probing: 51/272 (18.8%) - 0 fixings, 0 aggregations, 0 implications, 0 bound changes\n",
            "   (54.6s) probing aborted: 50/50 successive totally useless probings\n",
            "   (56.9s) symmetry computation started: requiring (bin +, int +, cont +), (fixed: bin -, int -, cont -)\n",
            "   (58.9s) no symmetry present (symcode time: 0.18)\n",
            "presolving (3 rounds: 3 fast, 2 medium, 2 exhaustive):\n",
            " 17 deleted vars, 17 deleted constraints, 0 added constraints, 17 tightened bounds, 0 added holes, 0 changed sides, 0 changed coefficients\n",
            " 0 implications, 170 cliques\n",
            "presolved problem has 272 variables (272 bin, 0 int, 0 impl, 0 cont) and 131087 constraints\n",
            " 130917 constraints of type <knapsack>\n",
            "    170 constraints of type <setppc>\n",
            "transformed objective value is always integral (scale: 0.01)\n",
            "Presolving Time: 56.78\n",
            "\n",
            " time | node  | left  |LP iter|LP it/n|mem/heur|mdpt |vars |cons |rows |cuts |sepa|confs|strbr|  dualbound   | primalbound  |  gap   | compl. \n",
            "p67.2s|     1 |     0 |     0 |     - |  clique|   0 | 272 | 131k| 131k|   0 |  0 |   0 |   0 | 0.000000e+00 | 3.692100e+02 |    Inf | unknown\n",
            " 80.7s|     1 |     0 |    40 |     - |  3927M |   0 | 272 | 131k| 131k|   0 |  0 |   0 |   0 | 1.302367e+02 | 3.692100e+02 | 183.49%| unknown\n",
            " 84.4s|     1 |     0 |    42 |     - |  3942M |   0 | 272 | 131k| 131k|   2 |  1 |   0 |   0 | 1.304900e+02 | 3.692100e+02 | 182.94%| unknown\n",
            "d84.5s|     1 |     0 |    42 |     - |farkasdi|   0 | 272 | 131k| 131k|   0 |  2 |   0 |   0 | 1.304900e+02 | 1.304900e+02 |   0.00%| unknown\n",
            " 84.6s|     1 |     0 |    42 |     - |  3943M |   0 | 272 | 131k| 131k|   2 |  2 |   0 |   0 | 1.304900e+02 | 1.304900e+02 |   0.00%| unknown\n",
            "\n",
            "SCIP Status        : problem is solved [optimal solution found]\n",
            "Solving Time (sec) : 84.60\n",
            "Solving Nodes      : 1\n",
            "Primal Bound       : +1.30490000000000e+02 (2 solutions)\n",
            "Dual Bound         : +1.30490000000000e+02\n",
            "Gap                : 0.00 %\n"
          ]
        }
      ]
    },
    {
      "cell_type": "markdown",
      "source": [
        "###Modelo 2"
      ],
      "metadata": {
        "id": "ekVAxEyRaKp2"
      }
    },
    {
      "cell_type": "code",
      "source": [
        "model8_2=Model(\"Viajante_2\")\n",
        "\n",
        "x=np.empty((17,17), dtype='object')\n",
        "u=np.empty(17, dtype='object')\n",
        "\n",
        "for i in range(17):\n",
        "  u[i]=model8_2.addVar(f'u_{i}', vtype='C')\n",
        "  for j in range(17):\n",
        "    x[i,j]=model8_2.addVar(f'x_{i}_{j}', vtype='B')\n",
        "\n",
        "for i in range(17):\n",
        "  model8_2.addCons(u[i]>=0)\n",
        "  model8_2.addCons(x[i,i]==0)\n",
        "  model8_2.addCons(sum(x[i,j] for j in range(17))==1)\n",
        "  model8_2.addCons(sum(x[j,i] for j in range(17))==1)\n",
        "  for j in range(1,17):\n",
        "    if (i!=j):\n",
        "      model8_2.addCons(u[i]+x[i,j]<=u[j]+16*(1-x[i,j]))\n",
        "\n",
        "model8_2.setObjective(sum(x[i,j]*d[i,j] for i in range(17) for j in range(17)), sense='minimize')\n",
        "\n",
        "model8_2.redirectOutput()\n",
        "model8_2.optimize()\n",
        "sol = model8_2.getBestSol()\n",
        "model8_2.writeSol(sol, 'Viaj2.sol')\n",
        "\n",
        "#tarda 0.05 lol"
      ],
      "metadata": {
        "colab": {
          "base_uri": "https://localhost:8080/"
        },
        "id": "cLR9koOWaNV-",
        "outputId": "57a2b097-8d66-484a-a857-4b2c0892b3ae"
      },
      "execution_count": null,
      "outputs": [
        {
          "output_type": "stream",
          "name": "stdout",
          "text": [
            "presolving:\n",
            "(round 1, fast)       17 del vars, 34 del conss, 0 add conss, 17 chg bounds, 0 chg sides, 0 chg coeffs, 0 upgd conss, 0 impls, 34 clqs\n",
            "(round 2, fast)       18 del vars, 34 del conss, 0 add conss, 17 chg bounds, 16 chg sides, 16 chg coeffs, 0 upgd conss, 0 impls, 34 clqs\n",
            "   (0.0s) running MILP presolver\n",
            "   (0.0s) MILP presolver found nothing\n",
            "(round 3, exhaustive) 18 del vars, 34 del conss, 0 add conss, 17 chg bounds, 16 chg sides, 16 chg coeffs, 50 upgd conss, 0 impls, 34 clqs\n",
            "   (0.0s) probing cycle finished: starting next cycle\n",
            "   (0.0s) symmetry computation started: requiring (bin +, int +, cont +), (fixed: bin -, int -, cont -)\n",
            "   (0.0s) no symmetry present (symcode time: 0.00)\n",
            "presolving (4 rounds: 4 fast, 2 medium, 2 exhaustive):\n",
            " 18 deleted vars, 34 deleted constraints, 0 added constraints, 17 tightened bounds, 0 added holes, 16 changed sides, 16 changed coefficients\n",
            " 256 implications, 34 cliques\n",
            "presolved problem has 288 variables (272 bin, 0 int, 0 impl, 16 cont) and 290 constraints\n",
            "     16 constraints of type <varbound>\n",
            "     34 constraints of type <setppc>\n",
            "    240 constraints of type <linear>\n",
            "transformed objective value is always integral (scale: 0.01)\n",
            "Presolving Time: 0.02\n",
            "\n",
            " time | node  | left  |LP iter|LP it/n|mem/heur|mdpt |vars |cons |rows |cuts |sepa|confs|strbr|  dualbound   | primalbound  |  gap   | compl. \n",
            "p 0.0s|     1 |     0 |    28 |     - | vbounds|   0 | 288 | 296 | 290 |   0 |  0 |   5 |   0 | 0.000000e+00 | 8.069800e+02 |    Inf | unknown\n",
            "  0.0s|     1 |     0 |    76 |     - |  5066k |   0 | 288 | 296 | 290 |   0 |  0 |   5 |   0 | 1.279712e+02 | 8.069800e+02 | 530.60%| unknown\n",
            "  0.0s|     1 |     0 |    91 |     - |  5204k |   0 | 288 | 296 | 295 |   5 |  1 |   5 |   0 | 1.290559e+02 | 8.069800e+02 | 525.30%| unknown\n",
            "  0.0s|     1 |     0 |    95 |     - |  5242k |   0 | 288 | 296 | 299 |   9 |  2 |   5 |   0 | 1.290559e+02 | 8.069800e+02 | 525.30%| unknown\n",
            "  0.0s|     1 |     0 |   104 |     - |  5276k |   0 | 288 | 296 | 303 |  13 |  3 |   5 |   0 | 1.299950e+02 | 8.069800e+02 | 520.78%| unknown\n",
            "  0.0s|     1 |     0 |   122 |     - |  5526k |   0 | 288 | 296 | 308 |  18 |  4 |   5 |   0 | 1.304900e+02 | 8.069800e+02 | 518.42%| unknown\n",
            "d 0.0s|     1 |     0 |   122 |     - |farkasdi|   0 | 288 | 296 | 308 |   0 |  5 |   5 |   0 | 1.304900e+02 | 1.304900e+02 |   0.00%| unknown\n",
            "  0.0s|     1 |     0 |   122 |     - |  5528k |   0 | 288 | 296 | 308 |  18 |  5 |   5 |   0 | 1.304900e+02 | 1.304900e+02 |   0.00%| unknown\n",
            "\n",
            "SCIP Status        : problem is solved [optimal solution found]\n",
            "Solving Time (sec) : 0.05\n",
            "Solving Nodes      : 1\n",
            "Primal Bound       : +1.30490000000000e+02 (2 solutions)\n",
            "Dual Bound         : +1.30490000000000e+02\n",
            "Gap                : 0.00 %\n"
          ]
        }
      ]
    },
    {
      "cell_type": "markdown",
      "source": [
        "#Ejercicio 9"
      ],
      "metadata": {
        "id": "oOAvl_59BxfF"
      }
    },
    {
      "cell_type": "code",
      "source": [
        "model9 = Model('Ajedrez')"
      ],
      "metadata": {
        "id": "rjCbCXjmBzP-"
      },
      "execution_count": 3,
      "outputs": []
    },
    {
      "cell_type": "code",
      "source": [
        "x = np.empty((8, 8), dtype='object')\n",
        "\n",
        "for i in range(0,8):\n",
        "  for k in range(0,8):\n",
        "    x[i, k] = model9.addVar(f'x_{i}_{k}', vtype='B')"
      ],
      "metadata": {
        "id": "anouTRNFB31W"
      },
      "execution_count": 4,
      "outputs": []
    },
    {
      "cell_type": "code",
      "source": [
        "for i in range(0,8):\n",
        "  for j in range(0,8):\n",
        "    a=max(i-7,j-7)\n",
        "    b=min(i,j)\n",
        "    c=max(i-7,-j)\n",
        "    d=min(i,7-j)\n",
        "    diagP=quicksum(x[i-k,j-k] for k in range(a,b+1))\n",
        "    diagN=quicksum(x[i-l,j+l] for l in range(c,d+1))\n",
        "    model9.addCons(diagN<=2)\n",
        "    model9.addCons(diagP<=2)\n",
        "    model9.addCons((diagP+diagN)+x[i,j]<=4)\n",
        "\n"
      ],
      "metadata": {
        "id": "2fWK_s_MCACP"
      },
      "execution_count": 5,
      "outputs": []
    },
    {
      "cell_type": "code",
      "source": [
        "model9.setObjective(sum(x[i,j] for i in range (0,8)for j in range (0,8)), sense='maximize')"
      ],
      "metadata": {
        "id": "0ResUwOWDarh"
      },
      "execution_count": 6,
      "outputs": []
    },
    {
      "cell_type": "code",
      "source": [
        "model9.redirectOutput()\n",
        "model9.optimize()\n",
        "sol = model9.getBestSol()\n",
        "model9.writeSol(sol, 'Aje.sol')"
      ],
      "metadata": {
        "colab": {
          "base_uri": "https://localhost:8080/"
        },
        "id": "D0-INHEiDkkN",
        "outputId": "88860ac0-0ec3-4c0d-af92-529263a63934"
      },
      "execution_count": 7,
      "outputs": [
        {
          "output_type": "stream",
          "name": "stdout",
          "text": [
            "feasible solution found by trivial heuristic after 0.0 seconds, objective value 0.000000e+00\n",
            "presolving:\n",
            "(round 1, fast)       0 del vars, 12 del conss, 0 add conss, 0 chg bounds, 0 chg sides, 0 chg coeffs, 0 upgd conss, 0 impls, 0 clqs\n",
            "   (0.0s) running MILP presolver\n",
            "   (0.0s) MILP presolver (2 rounds): 0 aggregations, 0 fixings, 0 bound changes\n",
            "(round 2, medium)     0 del vars, 192 del conss, 86 add conss, 0 chg bounds, 0 chg sides, 0 chg coeffs, 0 upgd conss, 0 impls, 0 clqs\n",
            "(round 3, exhaustive) 0 del vars, 192 del conss, 86 add conss, 0 chg bounds, 0 chg sides, 0 chg coeffs, 86 upgd conss, 0 impls, 0 clqs\n",
            "   (0.0s) probing: 51/64 (79.7%) - 0 fixings, 0 aggregations, 0 implications, 0 bound changes\n",
            "   (0.0s) probing aborted: 50/50 successive totally useless probings\n",
            "   (0.0s) symmetry computation started: requiring (bin +, int +, cont +), (fixed: bin -, int -, cont -)\n",
            "   (0.0s) symmetry computation finished: 14 generators found (max: 1500, log10 of symmetry group size: 4.52) (symcode time: 0.00)\n",
            "dynamic symmetry handling statistics:\n",
            "   orbitopal reduction:       no components\n",
            "   orbital reduction:          1 components of sizes 14\n",
            "   lexicographic reduction:   14 permutations with support sizes 2, 2, 4, 4, 6, 6, 8, 10, 8, 14, 12, 14, 10, 64\n",
            "handled 1 out of 1 symmetry components\n",
            "presolving (4 rounds: 4 fast, 3 medium, 2 exhaustive):\n",
            " 32 deleted vars, 235 deleted constraints, 86 added constraints, 0 tightened bounds, 0 added holes, 0 changed sides, 0 changed coefficients\n",
            " 0 implications, 0 cliques\n",
            "presolved problem has 32 variables (32 bin, 0 int, 0 impl, 0 cont) and 43 constraints\n",
            "     41 constraints of type <knapsack>\n",
            "      2 constraints of type <logicor>\n",
            "transformed objective value is always integral (scale: 1)\n",
            "Presolving Time: 0.10\n",
            "\n",
            " time | node  | left  |LP iter|LP it/n|mem/heur|mdpt |vars |cons |rows |cuts |sepa|confs|strbr|  dualbound   | primalbound  |  gap   | compl. \n",
            "t 0.1s|     1 |     0 |     0 |     - | trivial|   0 |  32 |  43 |   0 |   0 |  0 |   0 |   0 | 4.200000e+01 | 1.000000e+01 | 320.00%| unknown\n",
            "p 0.1s|     1 |     0 |     0 |     - |   locks|   0 |  32 |  43 |  43 |   0 |  0 |   0 |   0 | 4.200000e+01 | 1.800000e+01 | 133.33%| unknown\n",
            "  0.1s|     1 |     0 |    54 |     - |  2688k |   0 |  32 |  43 |  43 |   0 |  0 |   0 |   0 | 2.209396e+01 | 1.800000e+01 |  22.74%| unknown\n",
            "  0.1s|     1 |     0 |    62 |     - |  3137k |   0 |  32 |  43 |  44 |   1 |  1 |   0 |   0 | 2.171758e+01 | 1.800000e+01 |  20.65%| unknown\n",
            "  0.1s|     1 |     0 |    72 |     - |  3343k |   0 |  32 |  43 |  46 |   3 |  2 |   0 |   0 | 2.153583e+01 | 1.800000e+01 |  19.64%| unknown\n",
            "  0.1s|     1 |     0 |    83 |     - |  3570k |   0 |  32 |  43 |  48 |   5 |  3 |   0 |   0 | 2.141160e+01 | 1.800000e+01 |  18.95%| unknown\n",
            "  0.1s|     1 |     0 |    89 |     - |  3734k |   0 |  32 |  43 |  51 |   8 |  4 |   0 |   0 | 2.140321e+01 | 1.800000e+01 |  18.91%| unknown\n",
            "  0.1s|     1 |     0 |   102 |     - |  3785k |   0 |  32 |  43 |  53 |  10 |  5 |   0 |   0 | 2.134857e+01 | 1.800000e+01 |  18.60%| unknown\n",
            "  0.1s|     1 |     0 |   108 |     - |  4006k |   0 |  32 |  43 |  54 |  11 |  6 |   0 |   0 | 2.133465e+01 | 1.800000e+01 |  18.53%| unknown\n",
            "  0.1s|     1 |     0 |   113 |     - |  4584k |   0 |  32 |  43 |  56 |  13 |  7 |   0 |   0 | 2.132695e+01 | 1.800000e+01 |  18.48%| unknown\n",
            "  0.1s|     1 |     0 |   129 |     - |  4878k |   0 |  32 |  43 |  57 |  14 |  8 |   0 |   0 | 2.128668e+01 | 1.800000e+01 |  18.26%| unknown\n",
            "  0.1s|     1 |     0 |   141 |     - |  4885k |   0 |  32 |  43 |  58 |  15 |  9 |   0 |   0 | 2.124608e+01 | 1.800000e+01 |  18.03%| unknown\n",
            "  0.1s|     1 |     0 |   155 |     - |  5238k |   0 |  32 |  43 |  59 |  16 | 10 |   0 |   0 | 2.123659e+01 | 1.800000e+01 |  17.98%| unknown\n",
            "r 0.1s|     1 |     0 |   155 |     - |randroun|   0 |  32 |  43 |  59 |   0 | 10 |   0 |   0 | 2.123659e+01 | 1.900000e+01 |  11.77%| unknown\n",
            "  0.1s|     1 |     0 |   172 |     - |  5245k |   0 |  32 |  43 |  60 |  17 | 11 |   0 |   0 | 2.118995e+01 | 1.900000e+01 |  11.53%| unknown\n",
            " time | node  | left  |LP iter|LP it/n|mem/heur|mdpt |vars |cons |rows |cuts |sepa|confs|strbr|  dualbound   | primalbound  |  gap   | compl. \n",
            "i 0.1s|     1 |     0 |   172 |     - |  oneopt|   0 |  32 |  43 |  60 |  17 | 11 |   0 |   0 | 2.118995e+01 | 2.000000e+01 |   5.95%| unknown\n",
            "  0.1s|     1 |     0 |   184 |     - |  5284k |   0 |  32 |  43 |  63 |  20 | 12 |   0 |   0 | 2.117159e+01 | 2.000000e+01 |   5.86%| unknown\n",
            "  0.1s|     1 |     0 |   184 |     - |  5285k |   0 |  32 |  43 |  63 |  20 | 12 |   0 |   0 | 2.117159e+01 | 2.000000e+01 |   5.86%| unknown\n",
            "  0.1s|     1 |     0 |   207 |     - |  5291k |   0 |  32 |  43 |  66 |  23 | 13 |   0 |   0 | 2.102503e+01 | 2.000000e+01 |   5.13%| unknown\n",
            "  0.1s|     1 |     0 |   207 |     - |  5291k |   0 |  32 |  43 |  60 |  23 | 13 |   0 |   0 | 2.102503e+01 | 2.000000e+01 |   5.13%| unknown\n",
            "  0.1s|     1 |     0 |   213 |     - |  5291k |   0 |  32 |  42 |  63 |  26 | 14 |   0 |   0 | 2.000000e+01 | 2.000000e+01 |   0.00%| unknown\n",
            "  0.1s|     1 |     0 |   213 |     - |  5291k |   0 |  32 |  42 |  63 |  26 | 14 |   0 |   0 | 2.000000e+01 | 2.000000e+01 |   0.00%| unknown\n",
            "\n",
            "SCIP Status        : problem is solved [optimal solution found]\n",
            "Solving Time (sec) : 0.14\n",
            "Solving Nodes      : 1\n",
            "Primal Bound       : +2.00000000000000e+01 (21 solutions)\n",
            "Dual Bound         : +2.00000000000000e+01\n",
            "Gap                : 0.00 %\n"
          ]
        }
      ]
    },
    {
      "cell_type": "markdown",
      "source": [
        "#Ejercicio 11\n"
      ],
      "metadata": {
        "id": "TFiWvDK0aMUC"
      }
    },
    {
      "cell_type": "code",
      "source": [
        "model11 = Model('Obras')"
      ],
      "metadata": {
        "id": "-zDGLyrJFL8t"
      },
      "execution_count": null,
      "outputs": []
    },
    {
      "cell_type": "code",
      "source": [
        "mat=np.array([[9,6,5],[7,4,9],[4,6,3]])\n",
        "matriz_limites=np.array([[800,500,400],[700,600,400]])"
      ],
      "metadata": {
        "id": "upwQDIERazSS"
      },
      "execution_count": null,
      "outputs": []
    },
    {
      "cell_type": "code",
      "source": [
        "x = np.empty((3, 3), dtype='object')\n",
        "\n",
        "for i in range(0,3):\n",
        "  for k in range(0,3):\n",
        "    x[i, k] = model11.addVar(f'x_{i}_{k}', vtype='I')\n",
        "\n",
        "c = np.empty((3, 3), dtype='object')\n",
        "\n",
        "for i in range(0,3):\n",
        "  for k in range(0,3):\n",
        "    c[i, k] = model11.addVar(f'c_{i}_{k}', vtype='B')\n",
        "\n",
        "a=model11.addVar(name='a', vtype='B')"
      ],
      "metadata": {
        "id": "lDT_mC7faTuS"
      },
      "execution_count": null,
      "outputs": []
    },
    {
      "cell_type": "code",
      "source": [
        "for i in range(0,3):\n",
        "  model11.addCons(quicksum(x[j,i] for j in range(0,3))==matriz_limites[0,i])\n",
        "  model11.addCons(quicksum(x[i,j] for j in range(0,3))==matriz_limites[1,i])"
      ],
      "metadata": {
        "id": "FqUL_LI8bHCH"
      },
      "execution_count": null,
      "outputs": []
    },
    {
      "cell_type": "code",
      "source": [
        "model11.addCons(c[0,1]+c[1,1]<=1)\n",
        "\n",
        "model11.addCons(quicksum(c[i,j] for j in range(0,3) for i in range(0,3))<=5)\n",
        "\n",
        "model11.addCons(quicksum(c[i,j] for j in range(0,3) for i in range(0,3))*0.25<=a+1)"
      ],
      "metadata": {
        "colab": {
          "base_uri": "https://localhost:8080/"
        },
        "id": "nTpizSfFbyR_",
        "outputId": "854d023d-43ae-4771-ba21-cff805f50c0d"
      },
      "execution_count": null,
      "outputs": [
        {
          "output_type": "execute_result",
          "data": {
            "text/plain": [
              "c9"
            ]
          },
          "metadata": {},
          "execution_count": 35
        }
      ]
    },
    {
      "cell_type": "code",
      "source": [
        "for i in range(0,3):\n",
        "  for j in range(0,3):\n",
        "    #model11.addCons(x[i,j]<=-600*c[i,j]+(1-t[i,j])*1000)\n",
        "    #model11.addCons(-x[i,j]>=-a[i,j]*600-t[i,j]*1000)\n",
        "    model11.addCons(x[i,j]<=600*c[i,j])"
      ],
      "metadata": {
        "id": "oSbI-ujfcKzB"
      },
      "execution_count": null,
      "outputs": []
    },
    {
      "cell_type": "code",
      "source": [
        "model11.setObjective(sum(x[i,j]*mat[i,j]+50*c[i,j] for i in range (0,3)for j in range (0,3))+15*a, sense='minimize')"
      ],
      "metadata": {
        "id": "V1ZZURJZeTiN"
      },
      "execution_count": null,
      "outputs": []
    },
    {
      "cell_type": "code",
      "source": [
        "model11.redirectOutput()\n",
        "model11.optimize()\n",
        "sol = model11.getBestSol()\n",
        "model11.writeSol(sol, 'Obr.sol')"
      ],
      "metadata": {
        "colab": {
          "base_uri": "https://localhost:8080/"
        },
        "id": "NTpCxFO7fhYy",
        "outputId": "7c1e80f6-7131-4964-ecf2-870facae1838"
      },
      "execution_count": null,
      "outputs": [
        {
          "output_type": "stream",
          "name": "stdout",
          "text": [
            "presolving:\n",
            "(round 1, fast)       0 del vars, 0 del conss, 0 add conss, 17 chg bounds, 0 chg sides, 7 chg coeffs, 0 upgd conss, 0 impls, 1 clqs\n",
            "   (0.0s) running MILP presolver\n",
            "   (0.0s) MILP presolver (2 rounds): 1 aggregations, 0 fixings, 0 bound changes\n",
            "(round 2, medium)     1 del vars, 0 del conss, 0 add conss, 17 chg bounds, 0 chg sides, 7 chg coeffs, 0 upgd conss, 0 impls, 0 clqs\n",
            "(round 3, fast)       1 del vars, 1 del conss, 0 add conss, 17 chg bounds, 0 chg sides, 7 chg coeffs, 0 upgd conss, 1 impls, 0 clqs\n",
            "(round 4, exhaustive) 1 del vars, 1 del conss, 0 add conss, 17 chg bounds, 0 chg sides, 7 chg coeffs, 9 upgd conss, 1 impls, 0 clqs\n",
            "(round 5, exhaustive) 1 del vars, 1 del conss, 0 add conss, 17 chg bounds, 0 chg sides, 7 chg coeffs, 10 upgd conss, 8 impls, 0 clqs\n",
            "   (0.0s) probing cycle finished: starting next cycle\n",
            "   (0.0s) symmetry computation started: requiring (bin +, int +, cont +), (fixed: bin -, int -, cont -)\n",
            "   (0.0s) no symmetry present (symcode time: 0.00)\n",
            "presolving (6 rounds: 6 fast, 4 medium, 3 exhaustive):\n",
            " 1 deleted vars, 1 deleted constraints, 0 added constraints, 17 tightened bounds, 0 added holes, 0 changed sides, 7 changed coefficients\n",
            " 44 implications, 12 cliques\n",
            "presolved problem has 18 variables (9 bin, 9 int, 0 impl, 0 cont) and 17 constraints\n",
            "      9 constraints of type <varbound>\n",
            "      1 constraints of type <knapsack>\n",
            "      7 constraints of type <linear>\n",
            "transformed objective value is always integral (scale: 1)\n",
            "Presolving Time: 0.00\n",
            "\n",
            " time | node  | left  |LP iter|LP it/n|mem/heur|mdpt |vars |cons |rows |cuts |sepa|confs|strbr|  dualbound   | primalbound  |  gap   | compl. \n",
            "p 0.0s|     1 |     0 |     0 |     - |   locks|   0 |  18 |  17 |  17 |   0 |  0 |   0 |   0 | 5.000000e+01 | 9.865000e+03 |  Large | unknown\n",
            "p 0.0s|     1 |     0 |     1 |     - | vbounds|   0 |  18 |  17 |  17 |   0 |  0 |   0 |   0 | 5.000000e+01 | 9.265000e+03 |  Large | unknown\n",
            "  0.0s|     1 |     0 |    12 |     - |  1005k |   0 |  18 |  18 |  17 |   0 |  0 |   2 |   0 | 9.200000e+03 | 9.265000e+03 |   0.71%| unknown\n",
            "  0.0s|     1 |     0 |    12 |     - |  1005k |   0 |  18 |  18 |  16 |   0 |  0 |   2 |   0 | 9.200000e+03 | 9.265000e+03 |   0.71%| unknown\n",
            "  0.0s|     1 |     0 |    16 |     - |  1019k |   0 |  18 |  18 |  17 |   1 |  1 |   2 |   0 | 9.226875e+03 | 9.265000e+03 |   0.41%| unknown\n",
            "  0.0s|     1 |     0 |    16 |     - |  1019k |   0 |  18 |  18 |  16 |   1 |  1 |   2 |   0 | 9.226875e+03 | 9.265000e+03 |   0.41%| unknown\n",
            "  0.0s|     1 |     0 |    18 |     - |  1021k |   0 |  18 |  18 |  15 |   3 |  2 |   2 |   0 | 9.265000e+03 | 9.265000e+03 |   0.00%| unknown\n",
            "  0.0s|     1 |     0 |    18 |     - |  1021k |   0 |  18 |  18 |  15 |   3 |  2 |   2 |   0 | 9.265000e+03 | 9.265000e+03 |   0.00%| unknown\n",
            "\n",
            "SCIP Status        : problem is solved [optimal solution found]\n",
            "Solving Time (sec) : 0.01\n",
            "Solving Nodes      : 1\n",
            "Primal Bound       : +9.26500000000000e+03 (2 solutions)\n",
            "Dual Bound         : +9.26500000000000e+03\n",
            "Gap                : 0.00 %\n"
          ]
        }
      ]
    },
    {
      "cell_type": "markdown",
      "source": [
        "#Ejercicio 12\n"
      ],
      "metadata": {
        "id": "1bakT0UAE17n"
      }
    },
    {
      "cell_type": "code",
      "source": [
        "model12 = Model('Minas')"
      ],
      "metadata": {
        "id": "b4uhx3faE3Vc"
      },
      "execution_count": null,
      "outputs": []
    },
    {
      "cell_type": "code",
      "source": [
        "r=np.array([5,7,4,6])\n",
        "l=np.array([2000000,2500000,1700000,3000000])\n",
        "cal=np.array([1,0.7,1.5,0.5])\n",
        "calprom=np.array([0.9,0.8,1.2,1,1.1])"
      ],
      "metadata": {
        "id": "5vZWngTLE8nH"
      },
      "execution_count": null,
      "outputs": []
    },
    {
      "cell_type": "code",
      "source": [
        "x=np.empty((4,5), dtype='object')\n",
        "a=np.empty((4,5), dtype='object')\n",
        "c=np.empty((4,5), dtype='object')\n",
        "\n",
        "for i in range(4):\n",
        "  for j in range(5):\n",
        "    x[i,j] = model12.addVar(f'x_{i}_{j}', vtype='I')\n",
        "    c[i,j] = model12.addVar(f'c_{i}_{j}', vtype='B')\n",
        "    a[i,j] = model12.addVar(f'a_{i}_{j}', vtype='B')"
      ],
      "metadata": {
        "id": "eQCF9necFic4"
      },
      "execution_count": null,
      "outputs": []
    },
    {
      "cell_type": "code",
      "source": [
        "for j in range(5):\n",
        "  maquinas_usadas=quicksum(c[i,j] for i in range(4))\n",
        "  calidad_promedio=quicksum(cal[i]*c[i,j] for i in range(4))\n",
        "  calidad_esperada=calprom[j]*maquinas_usadas\n",
        "  model12.addCons(maquinas_usadas<=3)\n",
        "  model12.addCons(calidad_promedio>=calidad_esperada)\n",
        "\n",
        "for i in range(4):\n",
        "  model12.addCons(a[i,0]==1)\n",
        "  for j in range(5):\n",
        "    model12.addCons(a[i,j]>=c[i,j])\n",
        "    model12.addCons(2500000*c[i,j]>=x[i,j])\n",
        "    model12.addCons(x[i,j]<=l[i])\n",
        "  for k in range(4):\n",
        "    model12.addCons(a[i,k]>=a[i,k+1])"
      ],
      "metadata": {
        "id": "zuxKf_3hGLiv"
      },
      "execution_count": null,
      "outputs": []
    },
    {
      "cell_type": "code",
      "source": [
        "model12.setObjective(quicksum(x[i,j]*10-r[i]*a[i,j] for i in range(4) for j in range(5)), sense='maximize')\n",
        "model12.redirectOutput()\n",
        "model12.optimize()\n",
        "sol = model12.getBestSol()\n",
        "model12.writeSol(sol, 'Min.sol')"
      ],
      "metadata": {
        "colab": {
          "base_uri": "https://localhost:8080/"
        },
        "id": "u6_tCPFVHl8p",
        "outputId": "6b5c854e-1003-4442-b841-6ca135e47e20"
      },
      "execution_count": null,
      "outputs": [
        {
          "output_type": "stream",
          "name": "stdout",
          "text": [
            "feasible solution found by trivial heuristic after 0.0 seconds, objective value -9.900000e+01\n",
            "presolving:\n",
            "(round 1, fast)       15 del vars, 43 del conss, 0 add conss, 37 chg bounds, 0 chg sides, 2 chg coeffs, 0 upgd conss, 0 impls, 23 clqs\n",
            "(round 2, fast)       34 del vars, 64 del conss, 0 add conss, 37 chg bounds, 0 chg sides, 12 chg coeffs, 0 upgd conss, 0 impls, 21 clqs\n",
            "(round 3, fast)       36 del vars, 66 del conss, 0 add conss, 37 chg bounds, 0 chg sides, 12 chg coeffs, 0 upgd conss, 0 impls, 19 clqs\n",
            "   (0.0s) running MILP presolver\n",
            "   (0.0s) MILP presolver found nothing\n",
            "(round 4, exhaustive) 36 del vars, 66 del conss, 0 add conss, 37 chg bounds, 0 chg sides, 12 chg coeffs, 20 upgd conss, 0 impls, 19 clqs\n",
            "(round 5, fast)       38 del vars, 69 del conss, 0 add conss, 37 chg bounds, 0 chg sides, 12 chg coeffs, 20 upgd conss, 0 impls, 15 clqs\n",
            "(round 6, fast)       40 del vars, 72 del conss, 0 add conss, 37 chg bounds, 1 chg sides, 13 chg coeffs, 20 upgd conss, 0 impls, 13 clqs\n",
            "(round 7, fast)       42 del vars, 75 del conss, 0 add conss, 37 chg bounds, 1 chg sides, 13 chg coeffs, 20 upgd conss, 0 impls, 10 clqs\n",
            "   (0.0s) running MILP presolver\n",
            "   (0.0s) MILP presolver found nothing\n",
            "(round 8, exhaustive) 42 del vars, 75 del conss, 0 add conss, 37 chg bounds, 1 chg sides, 13 chg coeffs, 21 upgd conss, 0 impls, 10 clqs\n",
            "   (0.0s) probing cycle finished: starting next cycle\n",
            "   (0.0s) symmetry computation started: requiring (bin +, int +, cont +), (fixed: bin -, int -, cont -)\n",
            "   (0.0s) no symmetry present (symcode time: 0.00)\n",
            "presolving (9 rounds: 9 fast, 3 medium, 3 exhaustive):\n",
            " 46 deleted vars, 77 deleted constraints, 0 added constraints, 37 tightened bounds, 0 added holes, 1 changed sides, 13 changed coefficients\n",
            " 0 implications, 13 cliques\n",
            "presolved problem has 14 variables (14 bin, 0 int, 0 impl, 0 cont) and 13 constraints\n",
            "      9 constraints of type <setppc>\n",
            "      2 constraints of type <linear>\n",
            "      2 constraints of type <logicor>\n",
            "transformed objective value is always integral (scale: 1)\n",
            "Presolving Time: 0.01\n",
            "\n",
            " time | node  | left  |LP iter|LP it/n|mem/heur|mdpt |vars |cons |rows |cuts |sepa|confs|strbr|  dualbound   | primalbound  |  gap   | compl. \n",
            "t 0.0s|     1 |     0 |     0 |     - | trivial|   0 |  14 |  13 |   0 |   0 |  0 |   0 |   0 | 3.399999e+08 | 1.210000e+08 | 180.99%| unknown\n",
            "t 0.0s|     1 |     0 |     0 |     - | trivial|   0 |  14 |  13 |   0 |   0 |  0 |   0 |   0 | 3.399999e+08 | 1.579999e+08 | 115.19%| unknown\n",
            "p 0.0s|     1 |     0 |     0 |     - |  clique|   0 |  14 |  13 |  13 |   0 |  0 |   0 |   0 | 3.399999e+08 | 2.749999e+08 |  23.64%| unknown\n",
            "  0.0s|     1 |     0 |    11 |     - |  1030k |   0 |  14 |  13 |  13 |   0 |  0 |   2 |   0 | 2.777142e+08 | 2.749999e+08 |   0.99%| unknown\n",
            "  0.0s|     1 |     0 |    11 |     - |  1033k |   0 |  14 |  13 |  13 |   0 |  0 |   2 |   0 | 2.777142e+08 | 2.749999e+08 |   0.99%| unknown\n",
            "  0.0s|     1 |     0 |    14 |     - |  1046k |   0 |  14 |  13 |  12 |   2 |  1 |   2 |   0 | 2.749999e+08 | 2.749999e+08 |   0.00%| unknown\n",
            "  0.0s|     1 |     0 |    14 |     - |  1046k |   0 |  14 |  13 |  12 |   2 |  1 |   2 |   0 | 2.749999e+08 | 2.749999e+08 |   0.00%| unknown\n",
            "\n",
            "SCIP Status        : problem is solved [optimal solution found]\n",
            "Solving Time (sec) : 0.01\n",
            "Solving Nodes      : 1\n",
            "Primal Bound       : +2.74999913000000e+08 (6 solutions)\n",
            "Dual Bound         : +2.74999913000000e+08\n",
            "Gap                : 0.00 %\n"
          ]
        }
      ]
    },
    {
      "cell_type": "markdown",
      "source": [
        "#Ejercicio 14\n"
      ],
      "metadata": {
        "id": "QKtpwsCpU9mj"
      }
    },
    {
      "cell_type": "code",
      "source": [
        "import csv"
      ],
      "metadata": {
        "id": "QsSXQ8ZIW_a0"
      },
      "execution_count": null,
      "outputs": []
    },
    {
      "cell_type": "code",
      "source": [
        "model14 = Model(\"Concierto\")"
      ],
      "metadata": {
        "id": "2N0isybxJdoB"
      },
      "execution_count": null,
      "outputs": []
    },
    {
      "cell_type": "code",
      "source": [
        "b=np.empty((116,3,7,4), dtype='object')\n",
        "for i in range(116):\n",
        "  for j in range(3):\n",
        "    for k in range(7):\n",
        "      for l in range(4):\n",
        "        b[i,j,k,l]=model14.addVar(f'b_{i}_{j}_{k}_{l}', vtype='B')"
      ],
      "metadata": {
        "id": "yYHA92lcVDvU"
      },
      "execution_count": null,
      "outputs": []
    },
    {
      "cell_type": "code",
      "source": [
        "g=np.array([15,10,11,13,12])\n",
        "P=np.array([2,27,37,41,43,50])\n",
        "l=np.array([4500,5000,8000,7700])\n",
        "R=100000\n",
        "S=2500\n",
        "\n",
        "data_espectadores=open('recital_espectadores.csv', 'r', newline='')\n",
        "e=\n",
        "r=\n",
        "M="
      ],
      "metadata": {
        "id": "1WhMzf_mVyEX"
      },
      "execution_count": null,
      "outputs": []
    },
    {
      "cell_type": "code",
      "source": [
        "for i in range(116)\n",
        "  model14.addCons(quicksum(b[i,j,k,l] for j in range(3) for k in range(7) for l in range(4))<=1) #a\n",
        "\n",
        "for j in range(3):\n",
        "  for k in range(7):\n",
        "    model14.addCons(quicksum(b[i,j,k,l] for i in range(116) for l in range(4))<=20000) #d\n",
        "    for l in range(4):\n",
        "      model14.addCons(quicksum(b[i,j,k,l] for i in range(116)<=1)) #b\n",
        "      for i in range(116):\n",
        "        model14.addCons(b[i,j,k,l]<=l[l]) #c\n",
        "\n",
        "for u in range(5):\n",
        "  model14.addCons(quicksum(b[i,j,k,l] for i in G[u] for j in range(3) for k in range(7) for l in range(4))>=g[u]) #e\n",
        "\n",
        "model14.addCons(quicksum(b[i,j,1,3] for i in range(116) for j in range(3))==0) #f\n",
        "model14.addCons(quicksum(b[i,j,k,l] for i in P for j in range(3) for k in range(7) for l in range(4))<=P.length()) #g\n",
        "\n",
        "for i in P:\n",
        "  model14.addCons(quicksum(b[i,j,5,l]+b[i,j,6,l] for j in range(3) for k in range(4))==1) #h\n",
        "\n",
        "model14.addCons(quicksum(b[i,j,k,l]*r[i] for i in range(116) for j in range(3) for k in range(7) for l in range(4))>=R) #i\n",
        "\n",
        "for i in M:\n",
        "  model14.addCons(quicksum(b[i,j,k,l] for j in range(3) for k in range(3,7) for l in range(4))==0) #j\n"
      ],
      "metadata": {
        "id": "lVGjwjwPYQa2"
      },
      "execution_count": null,
      "outputs": []
    },
    {
      "cell_type": "code",
      "source": [
        "model14.setObjective()"
      ],
      "metadata": {
        "id": "cAlxbu2acUVx"
      },
      "execution_count": null,
      "outputs": []
    },
    {
      "cell_type": "markdown",
      "source": [
        "#Ejercicio 15\n"
      ],
      "metadata": {
        "id": "KAViRGFToidE"
      }
    },
    {
      "cell_type": "code",
      "source": [],
      "metadata": {
        "id": "exltkvVApanY"
      },
      "execution_count": null,
      "outputs": []
    },
    {
      "cell_type": "code",
      "source": [
        "model15=Model('Hotel')"
      ],
      "metadata": {
        "id": "EeYgVBy6oj3o"
      },
      "execution_count": null,
      "outputs": []
    },
    {
      "cell_type": "code",
      "source": [
        "x=np.empty((45,10), dtype='object')\n",
        "for i in range(45):\n",
        "  for j in range(10):\n",
        "    x[i,j]=model15.addVar(f'x_{i}_{j}', vtype='B')\n",
        "\n",
        "cant=np.empty(10, dtype='object')\n",
        "\n",
        "for i in range(10):\n",
        "  cant[i]=model15.addVar(f'cant_{i}', vtype='B')\n"
      ],
      "metadata": {
        "id": "wE2yLbxcoufC"
      },
      "execution_count": null,
      "outputs": []
    },
    {
      "cell_type": "code",
      "source": [
        "a=np.random.randint(1, 100, 45)\n",
        "c=np.random.randint(5, 12, 10)\n",
        "e=np.random.randint(3,5,10)\n",
        "A=np.array([2,5,38,41])\n",
        "B=np.array([1,12,15])"
      ],
      "metadata": {
        "id": "FUm3jM7ypMd0"
      },
      "execution_count": null,
      "outputs": []
    },
    {
      "cell_type": "code",
      "source": [
        "for i in range(45):\n",
        "  model15.addCons(quicksum(x[i,j] for j in range(10))==1)\n",
        "  for j in range(10):\n",
        "    model15.addCons(x[i,j]*a[i]-50<=e[j]/3*abs(a[i]-50))\n",
        "for j in range(10):\n",
        "  model15.addCons(quicksum(x[i,j] for i in range(45))<=c[j])\n",
        "for k in range(10):\n",
        "  for i in A:\n",
        "    for j in B:\n",
        "      model15.addCons(x[i,k]+x[j,k]<=1)\n",
        "\n",
        "for j in range(10):\n",
        "  model15.addCons(quicksum(x[i,j] for i in range(45))-c[j]<=0)"
      ],
      "metadata": {
        "id": "0ZEI5TLvpxeB"
      },
      "execution_count": null,
      "outputs": []
    },
    {
      "cell_type": "code",
      "source": [
        "model15.setObjective(quicksum(cant[i] for i in range(10)), sense='minimize')\n",
        "model15.redirectOutput()\n",
        "model15.optimize()\n",
        "sol = model15.getBestSol()\n",
        "model15.writeSol(sol, 'HOT.sol')"
      ],
      "metadata": {
        "colab": {
          "base_uri": "https://localhost:8080/"
        },
        "id": "1oylgyH8rjJ1",
        "outputId": "52a97d32-ce6e-4bb7-d1fd-3b9519c07b87"
      },
      "execution_count": null,
      "outputs": [
        {
          "output_type": "stream",
          "name": "stdout",
          "text": [
            "presolving:\n",
            "(round 1, fast)       10 del vars, 450 del conss, 0 add conss, 0 chg bounds, 380 chg sides, 0 chg coeffs, 0 upgd conss, 0 impls, 165 clqs\n",
            "   (0.0s) running MILP presolver\n",
            "   (0.0s) MILP presolver (2 rounds): 0 aggregations, 0 fixings, 0 bound changes\n",
            "(round 2, medium)     10 del vars, 635 del conss, 175 add conss, 0 chg bounds, 380 chg sides, 0 chg coeffs, 0 upgd conss, 0 impls, 165 clqs\n",
            "(round 3, exhaustive) 10 del vars, 635 del conss, 175 add conss, 0 chg bounds, 380 chg sides, 0 chg coeffs, 175 upgd conss, 0 impls, 165 clqs\n",
            "   (0.0s) probing: 51/450 (11.3%) - 0 fixings, 0 aggregations, 0 implications, 0 bound changes\n",
            "   (0.0s) probing aborted: 50/50 successive totally useless probings\n",
            "   (0.0s) symmetry computation started: requiring (bin +, int +, cont +), (fixed: bin -, int -, cont -)\n",
            "   (0.0s) symmetry computation finished: 46 generators found (max: 1500, log10 of symmetry group size: 48.26) (symcode time: 0.00)\n",
            "dynamic symmetry handling statistics:\n",
            "   orbitopal reduction:       no components\n",
            "   orbital reduction:          1 components of sizes 46\n",
            "   lexicographic reduction:   46 permutations with support sizes 20, 20, 20, 20, 20, 20, 20, 20, 20, 20, 20, 20, 20, 20, 20, 20, 20, 20, 20, 20, 20, 20, 20, 20, 20, 20, 20, 20, 20, 20, 20, 20, 20, 20, 20, 20, 20, 90, 20, 90, 20, 20, 90, 20, 90, 20\n",
            "handled 1 out of 1 symmetry components\n",
            "presolving (4 rounds: 4 fast, 3 medium, 2 exhaustive):\n",
            " 10 deleted vars, 635 deleted constraints, 175 added constraints, 0 tightened bounds, 0 added holes, 380 changed sides, 0 changed coefficients\n",
            " 0 implications, 165 cliques\n",
            "presolved problem has 450 variables (450 bin, 0 int, 0 impl, 0 cont) and 175 constraints\n",
            "     10 constraints of type <knapsack>\n",
            "    165 constraints of type <setppc>\n",
            "transformed objective value is always integral (scale: 1)\n",
            "Presolving Time: 0.02\n",
            "\n",
            " time | node  | left  |LP iter|LP it/n|mem/heur|mdpt |vars |cons |rows |cuts |sepa|confs|strbr|  dualbound   | primalbound  |  gap   | compl. \n",
            "p 0.0s|     1 |     0 |     0 |     - |  clique|   0 | 450 | 175 | 175 |   0 |  0 |   0 |   0 | 0.000000e+00 | 0.000000e+00 |   0.00%| unknown\n",
            "\n",
            "SCIP Status        : problem is solved [optimal solution found]\n",
            "Solving Time (sec) : 0.02\n",
            "Solving Nodes      : 1\n",
            "Primal Bound       : +0.00000000000000e+00 (1 solutions)\n",
            "Dual Bound         : +0.00000000000000e+00\n",
            "Gap                : 0.00 %\n"
          ]
        }
      ]
    },
    {
      "cell_type": "markdown",
      "source": [
        "#Simu parcial"
      ],
      "metadata": {
        "id": "ptnb0b5xl0LN"
      }
    },
    {
      "cell_type": "markdown",
      "source": [
        "###Ej 1\n"
      ],
      "metadata": {
        "id": "3ApGyRKxl2aV"
      }
    },
    {
      "cell_type": "code",
      "source": [
        "modelo_parcial1=Model('Paises')\n",
        "\n",
        "x=np.empty((10,10), dtype='object')\n",
        "a=np.empty(10, dtype='object')\n",
        "p=np.empty(10, dtype='object')\n",
        "\n",
        "for i in range(10):\n",
        "  a[i]=modelo_parcial1.addVar(f'a_{i}', vtype='B')\n",
        "  p[i]=modelo_parcial1.addVar(f'p_{i}', vtype='I')\n",
        "  for j in range(10):\n",
        "    x[i,j]=modelo_parcial1.addVar(f'x_{i}_{j}', vtype='B')\n",
        "\n",
        "M=np.array([[1,1,1,1,0,0,1,0,1,0],[1,1,1,1,0,0,1,1,0,0],[1,1,1,0,1,0,1,1,1,1],[1,1,0,1,0,0,0,1,0,0],[0,0,1,0,1,1,0,1,0,1],\n",
        " [0,0,0,0,1,1,0,1,0,0],[1,1,1,0,0,0,1,0,0,0],[0,1,1,1,1,1,0,1,0,0],[1,0,1,0,0,0,0,0,1,0],[0,0,1,0,1,0,0,0,0,1]])\n",
        "\n",
        "for j in range(10):\n",
        "  modelo_parcial1.addCons(sum(x[i,j] for i in range(10))==p[j])\n",
        "  modelo_parcial1.addCons(sum(x[j,i] for i in range(10))==1)\n",
        "  if (j!=9):\n",
        "    modelo_parcial1.addCons(p[j]>=p[j+1])\n",
        "  modelo_parcial1.addCons(p[j]>=0)\n",
        "  for i in range(10):\n",
        "    modelo_parcial1.addCons(a[j]*10>=x[i,j])\n",
        "    for r in range(10):\n",
        "      if (i!=r):\n",
        "        modelo_parcial1.addCons(x[i,j]+x[r,j]<=M[i,r]+1)\n",
        "\n",
        "modelo_parcial1.setObjective(sum(a[j] for j in range(10)), sense='minimize')\n",
        "\n",
        "modelo_parcial1.redirectOutput()\n",
        "modelo_parcial1.optimize()\n",
        "sol = modelo_parcial1.getBestSol()\n",
        "modelo_parcial1.writeSol(sol, 'par1.sol')"
      ],
      "metadata": {
        "colab": {
          "base_uri": "https://localhost:8080/"
        },
        "id": "U9GkXlYFl7dF",
        "outputId": "255f60b7-ad06-439b-a5a6-9ed9209235b0"
      },
      "execution_count": null,
      "outputs": [
        {
          "output_type": "stream",
          "name": "stdout",
          "text": [
            "presolving:\n",
            "(round 1, fast)       0 del vars, 390 del conss, 0 add conss, 10 chg bounds, 0 chg sides, 100 chg coeffs, 0 upgd conss, 0 impls, 370 clqs\n",
            "   (0.0s) running MILP presolver\n",
            "   (0.0s) MILP presolver (3 rounds): 1 aggregations, 0 fixings, 9 bound changes\n",
            "(round 2, medium)     1 del vars, 1039 del conss, 388 add conss, 19 chg bounds, 0 chg sides, 100 chg coeffs, 0 upgd conss, 0 impls, 370 clqs\n",
            "(round 3, exhaustive) 1 del vars, 1039 del conss, 388 add conss, 19 chg bounds, 0 chg sides, 100 chg coeffs, 378 upgd conss, 0 impls, 370 clqs\n",
            "   (0.1s) probing cycle finished: starting next cycle\n",
            "(round 4, exhaustive) 3 del vars, 1039 del conss, 388 add conss, 19 chg bounds, 0 chg sides, 100 chg coeffs, 378 upgd conss, 990 impls, 350 clqs\n",
            "(round 5, fast)       3 del vars, 1059 del conss, 388 add conss, 19 chg bounds, 0 chg sides, 100 chg coeffs, 378 upgd conss, 990 impls, 350 clqs\n",
            "   (0.1s) probing: 51/108 (47.2%) - 2 fixings, 0 aggregations, 990 implications, 0 bound changes\n",
            "   (0.1s) probing aborted: 50/50 successive totally useless probings\n",
            "   (0.1s) symmetry computation started: requiring (bin +, int +, cont +), (fixed: bin -, int -, cont -)\n",
            "   (0.1s) no symmetry present (symcode time: 0.00)\n",
            "presolving (6 rounds: 6 fast, 4 medium, 3 exhaustive):\n",
            " 3 deleted vars, 1059 deleted constraints, 388 added constraints, 19 tightened bounds, 0 added holes, 0 changed sides, 100 changed coefficients\n",
            " 990 implications, 350 cliques\n",
            "presolved problem has 117 variables (108 bin, 9 int, 0 impl, 0 cont) and 368 constraints\n",
            "      8 constraints of type <varbound>\n",
            "    350 constraints of type <setppc>\n",
            "     10 constraints of type <linear>\n",
            "transformed objective value is always integral (scale: 1)\n",
            "Presolving Time: 0.06\n",
            "\n",
            " time | node  | left  |LP iter|LP it/n|mem/heur|mdpt |vars |cons |rows |cuts |sepa|confs|strbr|  dualbound   | primalbound  |  gap   | compl. \n",
            "p 0.1s|     1 |     0 |     0 |     - |  clique|   0 | 117 | 368 | 368 |   0 |  0 |   0 |   0 | 2.000000e+00 | 5.000000e+00 | 150.00%| unknown\n",
            "  0.1s|     1 |     0 |   114 |     - |  3843k |   0 | 117 | 382 | 368 |   0 |  0 |  16 |   0 | 2.000000e+00 | 5.000000e+00 | 150.00%| unknown\n",
            "  0.1s|     1 |     0 |   134 |     - |  4125k |   0 | 117 | 413 | 368 |   0 |  1 |  16 |   0 | 5.000000e+00 | 5.000000e+00 |   0.00%| unknown\n",
            "  0.1s|     1 |     0 |   134 |     - |  4125k |   0 | 117 | 413 | 368 |   0 |  1 |  16 |   0 | 5.000000e+00 | 5.000000e+00 |   0.00%| unknown\n",
            "\n",
            "SCIP Status        : problem is solved [optimal solution found]\n",
            "Solving Time (sec) : 0.12\n",
            "Solving Nodes      : 1\n",
            "Primal Bound       : +5.00000000000000e+00 (1 solutions)\n",
            "Dual Bound         : +5.00000000000000e+00\n",
            "Gap                : 0.00 %\n"
          ]
        }
      ]
    },
    {
      "cell_type": "code",
      "source": [
        "print(sol)\n",
        "#res=list(sol)\n",
        "print(x[0,0])\n",
        "print(sol[x[0,0]])"
      ],
      "metadata": {
        "colab": {
          "base_uri": "https://localhost:8080/"
        },
        "id": "wFtHY2ysqM8s",
        "outputId": "9c38ea14-106b-4282-c87d-33a2a77976d4"
      },
      "execution_count": null,
      "outputs": [
        {
          "output_type": "stream",
          "name": "stdout",
          "text": [
            "{'a_0': 1.0, 'x_0_0': 0.0, 'x_0_1': 1.0, 'x_0_2': 0.0, 'x_0_3': 0.0, 'x_0_4': 0.0, 'x_0_5': 0.0, 'x_0_6': 0.0, 'x_0_7': 0.0, 'x_0_8': 0.0, 'x_0_9': 0.0, 'a_1': 1.0, 'x_1_0': 0.0, 'x_1_1': 0.0, 'x_1_2': 0.0, 'x_1_3': 1.0, 'x_1_4': 0.0, 'x_1_5': 0.0, 'x_1_6': 0.0, 'x_1_7': 0.0, 'x_1_8': 0.0, 'x_1_9': 0.0, 'a_2': 1.0, 'x_2_0': 1.0, 'x_2_1': 0.0, 'x_2_2': 0.0, 'x_2_3': 0.0, 'x_2_4': 0.0, 'x_2_5': 0.0, 'x_2_6': 0.0, 'x_2_7': 0.0, 'x_2_8': 0.0, 'x_2_9': 0.0, 'a_3': 1.0, 'x_3_0': 0.0, 'x_3_1': 0.0, 'x_3_2': 0.0, 'x_3_3': 0.0, 'x_3_4': 1.0, 'x_3_5': 0.0, 'x_3_6': 0.0, 'x_3_7': 0.0, 'x_3_8': 0.0, 'x_3_9': 0.0, 'a_4': 1.0, 'x_4_0': 1.0, 'x_4_1': 0.0, 'x_4_2': 0.0, 'x_4_3': 0.0, 'x_4_4': 0.0, 'x_4_5': 0.0, 'x_4_6': 0.0, 'x_4_7': 0.0, 'x_4_8': 0.0, 'x_4_9': 0.0, 'a_5': 0.0, 'x_5_0': 0.0, 'x_5_1': 0.0, 'x_5_2': 1.0, 'x_5_3': 0.0, 'x_5_4': 0.0, 'x_5_5': 0.0, 'x_5_6': 0.0, 'x_5_7': 0.0, 'x_5_8': 0.0, 'x_5_9': 0.0, 'a_6': 0.0, 'x_6_0': 0.0, 'x_6_1': 0.0, 'x_6_2': 0.0, 'x_6_3': 1.0, 'x_6_4': 0.0, 'x_6_5': 0.0, 'x_6_6': 0.0, 'x_6_7': 0.0, 'x_6_8': 0.0, 'x_6_9': 0.0, 'a_7': 0.0, 'x_7_0': 0.0, 'x_7_1': 0.0, 'x_7_2': 1.0, 'x_7_3': 0.0, 'x_7_4': 0.0, 'x_7_5': 0.0, 'x_7_6': 0.0, 'x_7_7': 0.0, 'x_7_8': 0.0, 'x_7_9': 0.0, 'a_8': 0.0, 'x_8_0': 0.0, 'x_8_1': 1.0, 'x_8_2': 0.0, 'x_8_3': 0.0, 'x_8_4': 0.0, 'x_8_5': 0.0, 'x_8_6': 0.0, 'x_8_7': 0.0, 'x_8_8': 0.0, 'x_8_9': 0.0, 'a_9': 0.0, 'x_9_0': 1.0, 'x_9_1': 0.0, 'x_9_2': 0.0, 'x_9_3': 0.0, 'x_9_4': 0.0, 'x_9_5': 0.0, 'x_9_6': 0.0, 'x_9_7': 0.0, 'x_9_8': 0.0, 'x_9_9': 0.0, 'p_1': 2.0, 'p_0': 3.0, 'p_7': 0.0, 'p_4': 1.0, 'p_3': 2.0, 'p_6': 0.0, 'p_8': 0.0, 'p_5': 0.0, 'p_2': 2.0, 'p_9': 0.0}\n",
            "x_0_0\n",
            "0.0\n"
          ]
        }
      ]
    },
    {
      "cell_type": "code",
      "source": [
        "res={}\n",
        "for i in range(10):\n",
        "  res[i]=[]\n",
        "for i in range(10):\n",
        "  for j in range(10):\n",
        "    if (sol[x[i,j]]==1):\n",
        "      res[j].append(i)\n",
        "print(res)"
      ],
      "metadata": {
        "colab": {
          "base_uri": "https://localhost:8080/"
        },
        "id": "qkbH7OFWrRzi",
        "outputId": "5e235c94-f816-424d-9b8f-ae09eb6f8bae"
      },
      "execution_count": null,
      "outputs": [
        {
          "output_type": "stream",
          "name": "stdout",
          "text": [
            "{0: [2, 4, 9], 1: [0, 8], 2: [5, 7], 3: [1, 6], 4: [3], 5: [], 6: [], 7: [], 8: [], 9: []}\n"
          ]
        }
      ]
    },
    {
      "cell_type": "code",
      "source": [
        "from itertools import permutations\n",
        "dobletes=[[0,8],[5,7],[1,6]]\n",
        "indices=[1,2,3]\n",
        "print(list(permutations(dobletes)))\n",
        "permutacao=list(permutations(dobletes))\n",
        "final=[]\n",
        "\n",
        "for elem in permutacao:\n",
        "  res=[]\n",
        "  for i in range(3):\n",
        "    res.append(elem[i])\n",
        "  final.append([[2, 4, 9]]+res+[[3]])\n",
        "print(final)\n",
        "#posibles="
      ],
      "metadata": {
        "colab": {
          "base_uri": "https://localhost:8080/"
        },
        "id": "LXa92v-W6Y-a",
        "outputId": "67c42a96-100f-4d51-df10-6b751426b822"
      },
      "execution_count": null,
      "outputs": [
        {
          "output_type": "stream",
          "name": "stdout",
          "text": [
            "[([0, 8], [5, 7], [1, 6]), ([0, 8], [1, 6], [5, 7]), ([5, 7], [0, 8], [1, 6]), ([5, 7], [1, 6], [0, 8]), ([1, 6], [0, 8], [5, 7]), ([1, 6], [5, 7], [0, 8])]\n",
            "[[[2, 4, 9], [0, 8], [5, 7], [1, 6], [3]], [[2, 4, 9], [0, 8], [1, 6], [5, 7], [3]], [[2, 4, 9], [5, 7], [0, 8], [1, 6], [3]], [[2, 4, 9], [5, 7], [1, 6], [0, 8], [3]], [[2, 4, 9], [1, 6], [0, 8], [5, 7], [3]], [[2, 4, 9], [1, 6], [5, 7], [0, 8], [3]]]\n"
          ]
        }
      ]
    },
    {
      "cell_type": "code",
      "source": [
        "modelo_parcial1=Model('Paises')\n",
        "\n",
        "x=np.empty((10,10), dtype='object')\n",
        "a=np.empty(10, dtype='object')\n",
        "p=np.empty(10, dtype='object')\n",
        "\n",
        "for i in range(10):\n",
        "  a[i]=modelo_parcial1.addVar(f'a_{i}', vtype='B')\n",
        "  p[i]=modelo_parcial1.addVar(f'p_{i}', vtype='I')\n",
        "  for j in range(10):\n",
        "    x[i,j]=modelo_parcial1.addVar(f'x_{i}_{j}', vtype='B')\n",
        "\n",
        "M=np.array([[1,1,1,1,0,0,1,0,1,0],[1,1,1,1,0,0,1,1,0,0],[1,1,1,0,1,0,1,1,1,1],[1,1,0,1,0,0,0,1,0,0],[0,0,1,0,1,1,0,1,0,1],\n",
        " [0,0,0,0,1,1,0,1,0,0],[1,1,1,0,0,0,1,0,0,0],[0,1,1,1,1,1,0,1,0,0],[1,0,1,0,0,0,0,0,1,0],[0,0,1,0,1,0,0,0,0,1]])\n",
        "\n",
        "for j in range(10):\n",
        "  modelo_parcial1.addCons(sum(x[i,j] for i in range(10))==p[j])\n",
        "  modelo_parcial1.addCons(sum(x[j,i] for i in range(10))==1)\n",
        "  if (j!=9):\n",
        "    modelo_parcial1.addCons(p[j]>=p[j+1])\n",
        "  modelo_parcial1.addCons(p[j]>=0)\n",
        "  for i in range(10):\n",
        "    modelo_parcial1.addCons(a[j]*10>=x[i,j])\n",
        "    for r in range(10):\n",
        "      if (i!=r):\n",
        "        modelo_parcial1.addCons(x[i,j]+x[r,j]<=M[i,r]+1)\n",
        "\n",
        "modelo_parcial1.setObjective(sum(a[j] for j in range(10)), sense='minimize')\n",
        "\n",
        "for elem in final:\n",
        "  modelo_parcial1.addCons(sum(x[i,j] for j in range(5) for i in final[j])<=9)\n",
        "\n",
        "\n",
        "modelo_parcial1.redirectOutput()\n",
        "modelo_parcial1.optimize()\n",
        "sol = modelo_parcial1.getBestSol()\n",
        "modelo_parcial1.writeSol(sol, 'par1.sol')\n",
        "\n",
        "\n",
        "\n"
      ],
      "metadata": {
        "id": "Exj0vVfQ9M1O"
      },
      "execution_count": null,
      "outputs": []
    },
    {
      "cell_type": "code",
      "source": [],
      "metadata": {
        "id": "m0qcUF2B_3GY"
      },
      "execution_count": null,
      "outputs": []
    },
    {
      "cell_type": "markdown",
      "source": [
        "#Práctica 2\n"
      ],
      "metadata": {
        "id": "7RnlS0ykayOb"
      }
    },
    {
      "cell_type": "markdown",
      "source": [
        "###Ejercicio 2"
      ],
      "metadata": {
        "id": "iyEIrufza9OD"
      }
    },
    {
      "cell_type": "code",
      "source": [
        "model_a=Model('simplex1')\n",
        "\n",
        "x1=model_a.addVar('x1', vtype='C')\n",
        "x2=model_a.addVar('x2', vtype='C')\n",
        "x3=model_a.addVar('x3', vtype='C')\n",
        "x4=model_a.addVar('x4', vtype='C')\n",
        "\n",
        "model_a.addCons(x1+3*x2-x3+2*x4<=2)\n",
        "model_a.addCons(2*x1+x2-4*x3<=1)\n",
        "model_a.addCons(-4*x2+2*x3<=10)\n",
        "\n",
        "model_a.setObjective(3*x1-x2-3*x3, sense='maximize')\n",
        "\n",
        "model_a.redirectOutput()\n",
        "model_a.optimize()\n",
        "sol = model_a.getBestSol()\n",
        "model_a.writeSol(sol, '1_a.sol')\n"
      ],
      "metadata": {
        "colab": {
          "base_uri": "https://localhost:8080/"
        },
        "id": "-CUiZW3pa-si",
        "outputId": "0ab1e7d8-7340-45b2-9985-4de79c018f06"
      },
      "execution_count": null,
      "outputs": [
        {
          "output_type": "stream",
          "name": "stdout",
          "text": [
            "feasible solution found by trivial heuristic after 0.0 seconds, objective value 0.000000e+00\n",
            "presolving:\n",
            "(round 1, fast)       1 del vars, 0 del conss, 0 add conss, 0 chg bounds, 0 chg sides, 0 chg coeffs, 0 upgd conss, 0 impls, 0 clqs\n",
            "   (0.0s) running MILP presolver\n",
            "   (0.0s) MILP presolver found nothing\n",
            "   (0.0s) symmetry computation started: requiring (bin +, int +, cont +), (fixed: bin -, int -, cont -)\n",
            "   (0.0s) no symmetry present (symcode time: 0.00)\n",
            "presolving (2 rounds: 2 fast, 1 medium, 1 exhaustive):\n",
            " 1 deleted vars, 0 deleted constraints, 0 added constraints, 0 tightened bounds, 0 added holes, 0 changed sides, 0 changed coefficients\n",
            " 0 implications, 0 cliques\n",
            "presolved problem has 3 variables (0 bin, 0 int, 0 impl, 3 cont) and 3 constraints\n",
            "      3 constraints of type <linear>\n",
            "Presolving Time: 0.00\n",
            "transformed 1/1 original solutions to the transformed problem space\n",
            "\n",
            " time | node  | left  |LP iter|LP it/n|mem/heur|mdpt |vars |cons |rows |cuts |sepa|confs|strbr|  dualbound   | primalbound  |  gap   | compl. \n",
            "* 0.0s|     1 |     0 |     2 |     - |    LP  |   0 |   3 |   3 |   3 |   0 |  0 |   0 |   0 | 6.000000e+00 | 6.000000e+00 |   0.00%| unknown\n",
            "  0.0s|     1 |     0 |     2 |     - |   607k |   0 |   3 |   3 |   3 |   0 |  0 |   0 |   0 | 6.000000e+00 | 6.000000e+00 |   0.00%| unknown\n",
            "\n",
            "SCIP Status        : problem is solved [optimal solution found]\n",
            "Solving Time (sec) : 0.00\n",
            "Solving Nodes      : 1\n",
            "Primal Bound       : +6.00000000000000e+00 (2 solutions)\n",
            "Dual Bound         : +6.00000000000000e+00\n",
            "Gap                : 0.00 %\n"
          ]
        }
      ]
    },
    {
      "cell_type": "code",
      "source": [
        "model_b=Model('simplex1b')\n",
        "\n",
        "x1=model_b.addVar('x1', vtype='C')\n",
        "x2=model_b.addVar('x2', vtype='C')\n",
        "x3=model_b.addVar('x3', vtype='C')\n",
        "\n",
        "model_b.addCons(-2*x1+x2<=4)\n",
        "model_b.addCons(-x1+2*x2<=7)\n",
        "model_b.addCons(x1>=0)\n",
        "model_b.addCons(x2>=0)\n",
        "model_b.addCons(x3>=-3)\n",
        "\n",
        "model_b.setObjective(x1-2*x3, sense='minimize')\n",
        "\n",
        "model_b.redirectOutput()\n",
        "model_b.optimize()\n",
        "sol = model_b.getBestSol()\n",
        "model_b.writeSol(sol, '1_b.sol')"
      ],
      "metadata": {
        "colab": {
          "base_uri": "https://localhost:8080/"
        },
        "id": "o2RyZaMEcdAw",
        "outputId": "f5c7c852-4c3f-4b08-fbc5-8f2f6a73e38a"
      },
      "execution_count": null,
      "outputs": [
        {
          "output_type": "stream",
          "name": "stdout",
          "text": [
            "feasible solution found by trivial heuristic after 0.0 seconds, objective value -1.000000e+05\n",
            "presolving:\n",
            "problem infeasible or unbounded: variable <t_x3> with objective -2 can be made infinitely large\n",
            "presolving (1 rounds: 1 fast, 0 medium, 0 exhaustive):\n",
            " 0 deleted vars, 0 deleted constraints, 0 added constraints, 0 tightened bounds, 0 added holes, 0 changed sides, 0 changed coefficients\n",
            " 0 implications, 0 cliques\n",
            "transformed 2/2 original solutions to the transformed problem space\n",
            "presolving detected unboundedness\n",
            "Presolving Time: 0.00\n",
            "\n",
            "SCIP Status        : problem is solved [unbounded]\n",
            "Solving Time (sec) : 0.00\n",
            "Solving Nodes      : 0\n",
            "Primal Bound       : -1.00000000000000e+20 (2 solutions)\n",
            "Dual Bound         : -1.00000000000000e+20\n",
            "Gap                : 0.00 %\n"
          ]
        }
      ]
    },
    {
      "cell_type": "code",
      "source": [
        "model_C=Model('simplex1C')\n",
        "\n",
        "x1=model_C.addVar('x1', vtype='C')\n",
        "x2=model_C.addVar('x2', vtype='C')\n",
        "x3=model_C.addVar('x3', vtype='C')\n",
        "\n",
        "model_C.addCons(x1+x2-2*x3<=4)\n",
        "model_C.addCons(-2*x1+3*x3>=-5)\n",
        "\n",
        "model_C.addCons(2*x1+x2-3*x3<=7)\n",
        "model_C.addCons(x1>=0)\n",
        "model_C.addCons(x2>=0)\n",
        "model_C.addCons(x3<=0)\n",
        "\n",
        "model_C.setObjective(3*x1+2*x2-4*x3, sense='maximize')\n",
        "\n",
        "model_C.redirectOutput()\n",
        "model_C.optimize()\n",
        "sol = model_C.getBestSol()\n",
        "model_C.writeSol(sol, '1_C.sol')"
      ],
      "metadata": {
        "colab": {
          "base_uri": "https://localhost:8080/"
        },
        "id": "yH6E57xilMMX",
        "outputId": "d1d3aae3-ddad-488c-aa52-5d475be331b1"
      },
      "execution_count": null,
      "outputs": [
        {
          "output_type": "stream",
          "name": "stdout",
          "text": [
            "feasible solution found by trivial heuristic after 0.0 seconds, objective value 0.000000e+00\n",
            "presolving:\n",
            "(round 1, fast)       1 del vars, 3 del conss, 0 add conss, 1 chg bounds, 0 chg sides, 0 chg coeffs, 0 upgd conss, 0 impls, 0 clqs\n",
            "(round 2, fast)       1 del vars, 4 del conss, 0 add conss, 4 chg bounds, 0 chg sides, 0 chg coeffs, 0 upgd conss, 0 impls, 0 clqs\n",
            "(round 3, fast)       1 del vars, 4 del conss, 0 add conss, 5 chg bounds, 0 chg sides, 0 chg coeffs, 0 upgd conss, 0 impls, 0 clqs\n",
            "   (0.0s) running MILP presolver\n",
            "   (0.0s) MILP presolver found nothing\n",
            "   (0.0s) symmetry computation started: requiring (bin +, int +, cont +), (fixed: bin -, int -, cont -)\n",
            "   (0.0s) no symmetry present (symcode time: 0.00)\n",
            "presolving (4 rounds: 4 fast, 1 medium, 1 exhaustive):\n",
            " 1 deleted vars, 4 deleted constraints, 0 added constraints, 5 tightened bounds, 0 added holes, 0 changed sides, 0 changed coefficients\n",
            " 0 implications, 0 cliques\n",
            "presolved problem has 2 variables (0 bin, 0 int, 0 impl, 2 cont) and 2 constraints\n",
            "      2 constraints of type <linear>\n",
            "Presolving Time: 0.00\n",
            "\n",
            " time | node  | left  |LP iter|LP it/n|mem/heur|mdpt |vars |cons |rows |cuts |sepa|confs|strbr|  dualbound   | primalbound  |  gap   | compl. \n",
            "t 0.0s|     1 |     0 |     0 |     - | trivial|   0 |   2 |   2 |   0 |   0 |  0 |   0 |   0 | 1.550000e+01 | 3.000000e+00 | 416.67%| unknown\n",
            "* 0.0s|     1 |     0 |     1 |     - |    LP  |   0 |   2 |   2 |   2 |   0 |  0 |   0 |   0 | 1.050000e+01 | 1.050000e+01 |   0.00%| unknown\n",
            "  0.0s|     1 |     0 |     1 |     - |   603k |   0 |   2 |   2 |   2 |   0 |  0 |   0 |   0 | 1.050000e+01 | 1.050000e+01 |   0.00%| unknown\n",
            "\n",
            "SCIP Status        : problem is solved [optimal solution found]\n",
            "Solving Time (sec) : 0.00\n",
            "Solving Nodes      : 1\n",
            "Primal Bound       : +1.05000000000000e+01 (3 solutions)\n",
            "Dual Bound         : +1.05000000000000e+01\n",
            "Gap                : 0.00 %\n"
          ]
        }
      ]
    },
    {
      "cell_type": "code",
      "source": [
        "model_D=Model('simplex3D')\n",
        "\n",
        "x1=model_D.addVar('x1', vtype='C')\n",
        "x2=model_D.addVar('x2', vtype='C')\n",
        "x3=model_D.addVar('x3', vtype='C')\n",
        "x4=model_D.addVar('x4', vtype='C')\n",
        "\n",
        "model_D.addCons(x1+2*x2+3*x3+x4<=5)\n",
        "model_D.addCons(x1+x2+2*x3+3*x4<=3)\n",
        "\n",
        "model_D.addCons(x1>=0)\n",
        "model_D.addCons(x2>=0)\n",
        "model_D.addCons(x3>=0)\n",
        "model_D.addCons(x4>=0)\n",
        "\n",
        "model_D.setObjective(5*x1+6*x2+9*x3+8*x4, sense='maximize')\n",
        "\n",
        "model_D.redirectOutput()\n",
        "model_D.optimize()\n",
        "sol = model_D.getBestSol()\n",
        "model_D.writeSol(sol, '3_D.sol')"
      ],
      "metadata": {
        "colab": {
          "base_uri": "https://localhost:8080/"
        },
        "id": "wGBsFxUIbtpS",
        "outputId": "f468506f-ab0e-4bf7-a1fb-6890bbf7bfbf"
      },
      "execution_count": null,
      "outputs": [
        {
          "output_type": "stream",
          "name": "stdout",
          "text": [
            "feasible solution found by trivial heuristic after 0.0 seconds, objective value 0.000000e+00\n",
            "presolving:\n",
            "(round 1, fast)       0 del vars, 4 del conss, 0 add conss, 7 chg bounds, 0 chg sides, 0 chg coeffs, 0 upgd conss, 0 impls, 0 clqs\n",
            "   (0.0s) running MILP presolver\n",
            "   (0.0s) MILP presolver found nothing\n",
            "   (0.0s) symmetry computation started: requiring (bin +, int +, cont +), (fixed: bin -, int -, cont -)\n",
            "   (0.0s) no symmetry present (symcode time: 0.00)\n",
            "presolving (2 rounds: 2 fast, 1 medium, 1 exhaustive):\n",
            " 0 deleted vars, 4 deleted constraints, 0 added constraints, 7 tightened bounds, 0 added holes, 0 changed sides, 0 changed coefficients\n",
            " 0 implications, 0 cliques\n",
            "presolved problem has 4 variables (0 bin, 0 int, 0 impl, 4 cont) and 2 constraints\n",
            "      2 constraints of type <linear>\n",
            "Presolving Time: 0.00\n",
            "transformed 1/1 original solutions to the transformed problem space\n",
            "\n",
            " time | node  | left  |LP iter|LP it/n|mem/heur|mdpt |vars |cons |rows |cuts |sepa|confs|strbr|  dualbound   | primalbound  |  gap   | compl. \n",
            "* 0.0s|     1 |     0 |     4 |     - |    LP  |   0 |   4 |   2 |   2 |   0 |  0 |   0 |   0 | 1.700000e+01 | 1.700000e+01 |   0.00%| unknown\n",
            "  0.0s|     1 |     0 |     4 |     - |   607k |   0 |   4 |   2 |   2 |   0 |  0 |   0 |   0 | 1.700000e+01 | 1.700000e+01 |   0.00%| unknown\n",
            "\n",
            "SCIP Status        : problem is solved [optimal solution found]\n",
            "Solving Time (sec) : 0.01\n",
            "Solving Nodes      : 1\n",
            "Primal Bound       : +1.70000000000000e+01 (2 solutions)\n",
            "Dual Bound         : +1.70000000000000e+01\n",
            "Gap                : 0.00 %\n"
          ]
        }
      ]
    },
    {
      "cell_type": "markdown",
      "source": [
        "## Ejercicio 5\n"
      ],
      "metadata": {
        "id": "HBD_WJBupgMn"
      }
    },
    {
      "cell_type": "code",
      "source": [
        "model_5_A=Model('simplex5A')\n",
        "\n",
        "x1=model_5_A.addVar('x1', vtype='C')\n",
        "x2=model_5_A.addVar('x2', vtype='C')\n",
        "x3=model_5_A.addVar('x3', vtype='C')\n",
        "x4=model_5_A.addVar('x4', vtype='C')\n",
        "\n",
        "model_5_A.addCons(2*x1+3*x2+2*x3+x4<=38)\n",
        "model_5_A.addCons(3*x1+2*x2+4*x3-x4<=55)\n",
        "\n",
        "model_5_A.addCons(x1>=0)\n",
        "model_5_A.addCons(x2>=0)\n",
        "model_5_A.addCons(x3>=0)\n",
        "model_5_A.addCons(x4>=0)\n",
        "\n",
        "model_5_A.setObjective(-5*x1-7*x2-12*x3+x4, sense='minimize')\n",
        "\n",
        "model_5_A.redirectOutput()\n",
        "model_5_A.optimize()\n",
        "sol = model_5_A.getBestSol()\n",
        "model_5_A.writeSol(sol, '5_A.sol')"
      ],
      "metadata": {
        "colab": {
          "base_uri": "https://localhost:8080/"
        },
        "id": "t-aXKc7ipfyi",
        "outputId": "0bd9b728-4d5e-48ca-93a0-379d18b267c1"
      },
      "execution_count": null,
      "outputs": [
        {
          "output_type": "stream",
          "name": "stdout",
          "text": [
            "feasible solution found by trivial heuristic after 0.0 seconds, objective value 0.000000e+00\n",
            "presolving:\n",
            "(round 1, fast)       0 del vars, 4 del conss, 0 add conss, 4 chg bounds, 0 chg sides, 0 chg coeffs, 0 upgd conss, 0 impls, 0 clqs\n",
            "   (0.0s) running MILP presolver\n",
            "   (0.0s) MILP presolver found nothing\n",
            "   (0.0s) symmetry computation started: requiring (bin +, int +, cont +), (fixed: bin -, int -, cont -)\n",
            "   (0.0s) no symmetry present (symcode time: 0.00)\n",
            "presolving (2 rounds: 2 fast, 1 medium, 1 exhaustive):\n",
            " 0 deleted vars, 4 deleted constraints, 0 added constraints, 4 tightened bounds, 0 added holes, 0 changed sides, 0 changed coefficients\n",
            " 0 implications, 0 cliques\n",
            "presolved problem has 4 variables (0 bin, 0 int, 0 impl, 4 cont) and 2 constraints\n",
            "      2 constraints of type <linear>\n",
            "Presolving Time: 0.00\n",
            "transformed 1/1 original solutions to the transformed problem space\n",
            "\n",
            " time | node  | left  |LP iter|LP it/n|mem/heur|mdpt |vars |cons |rows |cuts |sepa|confs|strbr|  dualbound   | primalbound  |  gap   | compl. \n",
            "* 0.0s|     1 |     0 |     2 |     - |    LP  |   0 |   4 |   2 |   2 |   0 |  0 |   0 |   0 |-1.790000e+02 |-1.790000e+02 |   0.00%| unknown\n",
            "  0.0s|     1 |     0 |     2 |     - |   607k |   0 |   4 |   2 |   2 |   0 |  0 |   0 |   0 |-1.790000e+02 |-1.790000e+02 |   0.00%| unknown\n",
            "\n",
            "SCIP Status        : problem is solved [optimal solution found]\n",
            "Solving Time (sec) : 0.00\n",
            "Solving Nodes      : 1\n",
            "Primal Bound       : -1.79000000000000e+02 (3 solutions)\n",
            "Dual Bound         : -1.79000000000000e+02\n",
            "Gap                : 0.00 %\n"
          ]
        }
      ]
    },
    {
      "cell_type": "code",
      "source": [
        "model_5_B=Model('simplex5B')\n",
        "\n",
        "x1=model_5_B.addVar('x1', vtype='C')\n",
        "x2=model_5_B.addVar('x2', vtype='C')\n",
        "x3=model_5_B.addVar('x3', vtype='C')\n",
        "x4=model_5_B.addVar('x4', vtype='C')\n",
        "\n",
        "model_5_B.addCons(4*x1+5*x2+2*x3+x4<=20)\n",
        "model_5_B.addCons(3*x1+4*x2-x3+x4<=30)\n",
        "\n",
        "model_5_B.addCons(x1>=0)\n",
        "model_5_B.addCons(x2>=0)\n",
        "model_5_B.addCons(x3>=0)\n",
        "model_5_B.addCons(x4>=0)\n",
        "\n",
        "model_5_B.setObjective(5*x1+3*x2+2*x3, sense='maximize')\n",
        "\n",
        "model_5_B.redirectOutput()\n",
        "model_5_B.optimize()\n",
        "sol = model_5_B.getBestSol()\n",
        "model_5_B.writeSol(sol, '5_B.sol')"
      ],
      "metadata": {
        "colab": {
          "base_uri": "https://localhost:8080/"
        },
        "id": "-Vcs0t5yvo-s",
        "outputId": "b35d2c7f-a5ea-4f96-bfaa-c7ebe230c05a"
      },
      "execution_count": null,
      "outputs": [
        {
          "output_type": "stream",
          "name": "stdout",
          "text": [
            "feasible solution found by trivial heuristic after 0.0 seconds, objective value 0.000000e+00\n",
            "presolving:\n",
            "(round 1, fast)       0 del vars, 4 del conss, 0 add conss, 4 chg bounds, 0 chg sides, 0 chg coeffs, 0 upgd conss, 0 impls, 0 clqs\n",
            "(round 2, fast)       1 del vars, 4 del conss, 0 add conss, 4 chg bounds, 0 chg sides, 0 chg coeffs, 0 upgd conss, 0 impls, 0 clqs\n",
            "   (0.0s) running MILP presolver\n",
            "   (0.0s) MILP presolver (1 rounds): 1 aggregations, 2 fixings, 0 bound changes\n",
            "presolving (3 rounds: 3 fast, 1 medium, 1 exhaustive):\n",
            " 4 deleted vars, 6 deleted constraints, 0 added constraints, 4 tightened bounds, 0 added holes, 0 changed sides, 0 changed coefficients\n",
            " 0 implications, 0 cliques\n",
            "transformed 1/2 original solutions to the transformed problem space\n",
            "Presolving Time: 0.00\n",
            "\n",
            "SCIP Status        : problem is solved [optimal solution found]\n",
            "Solving Time (sec) : 0.00\n",
            "Solving Nodes      : 0\n",
            "Primal Bound       : +2.50000000000000e+01 (2 solutions)\n",
            "Dual Bound         : +2.50000000000000e+01\n",
            "Gap                : 0.00 %\n"
          ]
        }
      ]
    },
    {
      "cell_type": "code",
      "source": [
        "model_5_C=Model('simplex5C')\n",
        "\n",
        "x1=model_5_C.addVar('x1', vtype='C')\n",
        "x2=model_5_C.addVar('x2', vtype='C')\n",
        "x3=model_5_C.addVar('x3', vtype='C')\n",
        "\n",
        "model_5_C.addCons(4*x1+5*x2-2*x3<=22)\n",
        "model_5_C.addCons(x1-2*x2+x3<=30)\n",
        "\n",
        "model_5_C.addCons(x1>=0)\n",
        "model_5_C.addCons(x2>=0)\n",
        "model_5_C.addCons(x3>=0)\n",
        "\n",
        "model_5_C.setObjective(3*x1-2*x2-4*x3, sense='minimize')\n",
        "\n",
        "model_5_C.redirectOutput()\n",
        "model_5_C.optimize()\n",
        "sol = model_5_C.getBestSol()\n",
        "model_5_C.writeSol(sol, '5_C.sol')"
      ],
      "metadata": {
        "colab": {
          "base_uri": "https://localhost:8080/"
        },
        "id": "XcGfiXqPxm_I",
        "outputId": "3138594b-cb1b-4549-9ad8-fa11c877e50f"
      },
      "execution_count": null,
      "outputs": [
        {
          "output_type": "stream",
          "name": "stdout",
          "text": [
            "feasible solution found by trivial heuristic after 0.0 seconds, objective value 0.000000e+00\n",
            "presolving:\n",
            "(round 1, fast)       0 del vars, 3 del conss, 0 add conss, 0 chg bounds, 0 chg sides, 0 chg coeffs, 0 upgd conss, 0 impls, 0 clqs\n",
            "(round 2, fast)       1 del vars, 3 del conss, 0 add conss, 2 chg bounds, 0 chg sides, 0 chg coeffs, 0 upgd conss, 0 impls, 0 clqs\n",
            "(round 3, fast)       1 del vars, 3 del conss, 0 add conss, 4 chg bounds, 0 chg sides, 0 chg coeffs, 0 upgd conss, 0 impls, 0 clqs\n",
            "(round 4, fast)       1 del vars, 3 del conss, 0 add conss, 6 chg bounds, 0 chg sides, 0 chg coeffs, 0 upgd conss, 0 impls, 0 clqs\n",
            "(round 5, fast)       1 del vars, 3 del conss, 0 add conss, 8 chg bounds, 0 chg sides, 0 chg coeffs, 0 upgd conss, 0 impls, 0 clqs\n",
            "(round 6, fast)       1 del vars, 3 del conss, 0 add conss, 10 chg bounds, 0 chg sides, 0 chg coeffs, 0 upgd conss, 0 impls, 0 clqs\n",
            "(round 7, fast)       1 del vars, 3 del conss, 0 add conss, 12 chg bounds, 0 chg sides, 0 chg coeffs, 0 upgd conss, 0 impls, 0 clqs\n",
            "(round 8, fast)       1 del vars, 3 del conss, 0 add conss, 14 chg bounds, 0 chg sides, 0 chg coeffs, 0 upgd conss, 0 impls, 0 clqs\n",
            "(round 9, fast)       1 del vars, 3 del conss, 0 add conss, 15 chg bounds, 0 chg sides, 0 chg coeffs, 0 upgd conss, 0 impls, 0 clqs\n",
            "(round 10, fast)       1 del vars, 3 del conss, 0 add conss, 16 chg bounds, 0 chg sides, 0 chg coeffs, 0 upgd conss, 0 impls, 0 clqs\n",
            "(round 11, fast)       1 del vars, 3 del conss, 0 add conss, 17 chg bounds, 0 chg sides, 0 chg coeffs, 0 upgd conss, 0 impls, 0 clqs\n",
            "(round 12, fast)       1 del vars, 3 del conss, 0 add conss, 18 chg bounds, 0 chg sides, 0 chg coeffs, 0 upgd conss, 0 impls, 0 clqs\n",
            "(round 13, fast)       1 del vars, 3 del conss, 0 add conss, 19 chg bounds, 0 chg sides, 0 chg coeffs, 0 upgd conss, 0 impls, 0 clqs\n",
            "(round 14, fast)       1 del vars, 3 del conss, 0 add conss, 20 chg bounds, 0 chg sides, 0 chg coeffs, 0 upgd conss, 0 impls, 0 clqs\n",
            "(round 15, fast)       1 del vars, 3 del conss, 0 add conss, 21 chg bounds, 0 chg sides, 0 chg coeffs, 0 upgd conss, 0 impls, 0 clqs\n",
            "(round 16, fast)       1 del vars, 3 del conss, 0 add conss, 22 chg bounds, 0 chg sides, 0 chg coeffs, 0 upgd conss, 0 impls, 0 clqs\n",
            "(round 17, fast)       1 del vars, 3 del conss, 0 add conss, 23 chg bounds, 0 chg sides, 0 chg coeffs, 0 upgd conss, 0 impls, 0 clqs\n",
            "   (0.0s) running MILP presolver\n",
            "   (0.0s) MILP presolver found nothing\n",
            "   (0.0s) symmetry computation started: requiring (bin +, int +, cont +), (fixed: bin -, int -, cont -)\n",
            "   (0.0s) no symmetry present (symcode time: 0.00)\n",
            "presolving (18 rounds: 18 fast, 1 medium, 1 exhaustive):\n",
            " 1 deleted vars, 3 deleted constraints, 0 added constraints, 23 tightened bounds, 0 added holes, 0 changed sides, 0 changed coefficients\n",
            " 0 implications, 0 cliques\n",
            "presolved problem has 2 variables (0 bin, 0 int, 0 impl, 2 cont) and 2 constraints\n",
            "      2 constraints of type <linear>\n",
            "Presolving Time: 0.00\n",
            "\n",
            " time | node  | left  |LP iter|LP it/n|mem/heur|mdpt |vars |cons |rows |cuts |sepa|confs|strbr|  dualbound   | primalbound  |  gap   | compl. \n",
            "t 0.0s|     1 |     0 |     0 |     - | trivial|   0 |   2 |   2 |   0 |   0 |  0 |   0 |   0 |      --      |-7.749122e+02 |    Inf | unknown\n",
            "* 0.0s|     1 |     0 |     2 |     - |    LP  |   0 |   2 |   2 |   2 |   0 |  0 |   0 |   0 |-9.400000e+02 |-9.400000e+02 |   0.00%| unknown\n",
            "  0.0s|     1 |     0 |     2 |     - |   603k |   0 |   2 |   2 |   2 |   0 |  0 |   0 |   0 |-9.400000e+02 |-9.400000e+02 |   0.00%| unknown\n",
            "\n",
            "SCIP Status        : problem is solved [optimal solution found]\n",
            "Solving Time (sec) : 0.01\n",
            "Solving Nodes      : 1\n",
            "Primal Bound       : -9.40000000000000e+02 (3 solutions)\n",
            "Dual Bound         : -9.40000000000000e+02\n",
            "Gap                : 0.00 %\n"
          ]
        }
      ]
    },
    {
      "cell_type": "code",
      "source": [
        "model_5_D=Model('simplex5D')\n",
        "\n",
        "x1=model_5_D.addVar('x1', vtype='C')\n",
        "x2=model_5_D.addVar('x2', vtype='C')\n",
        "x3=model_5_D.addVar('x3', vtype='C')\n",
        "\n",
        "model_5_D.addCons(x1+4*x2+2*x3<=48)\n",
        "model_5_D.addCons(x1+2*x2+4*x3<=60)\n",
        "\n",
        "model_5_D.addCons(x1>=0)\n",
        "model_5_D.addCons(x2>=0)\n",
        "model_5_D.addCons(x3>=0)\n",
        "\n",
        "model_5_D.setObjective(-6*x1-14*x2-13*x3, sense='minimize')\n",
        "\n",
        "model_5_D.redirectOutput()\n",
        "model_5_D.optimize()\n",
        "sol = model_5_D.getBestSol()\n",
        "model_5_D.writeSol(sol, '5_D.sol')"
      ],
      "metadata": {
        "colab": {
          "base_uri": "https://localhost:8080/"
        },
        "id": "zozgrvxR0jfK",
        "outputId": "85ca0b7b-010a-4076-bc73-ae173dc85334"
      },
      "execution_count": null,
      "outputs": [
        {
          "output_type": "stream",
          "name": "stdout",
          "text": [
            "feasible solution found by trivial heuristic after 0.0 seconds, objective value 0.000000e+00\n",
            "presolving:\n",
            "(round 1, fast)       0 del vars, 3 del conss, 0 add conss, 4 chg bounds, 0 chg sides, 0 chg coeffs, 0 upgd conss, 0 impls, 0 clqs\n",
            "   (0.0s) running MILP presolver\n",
            "   (0.0s) MILP presolver found nothing\n",
            "   (0.0s) symmetry computation started: requiring (bin +, int +, cont +), (fixed: bin -, int -, cont -)\n",
            "   (0.0s) no symmetry present (symcode time: 0.00)\n",
            "presolving (2 rounds: 2 fast, 1 medium, 1 exhaustive):\n",
            " 0 deleted vars, 3 deleted constraints, 0 added constraints, 4 tightened bounds, 0 added holes, 0 changed sides, 0 changed coefficients\n",
            " 0 implications, 0 cliques\n",
            "presolved problem has 3 variables (0 bin, 0 int, 0 impl, 3 cont) and 2 constraints\n",
            "      2 constraints of type <linear>\n",
            "Presolving Time: 0.00\n",
            "transformed 1/1 original solutions to the transformed problem space\n",
            "\n",
            " time | node  | left  |LP iter|LP it/n|mem/heur|mdpt |vars |cons |rows |cuts |sepa|confs|strbr|  dualbound   | primalbound  |  gap   | compl. \n",
            "* 0.0s|     1 |     0 |     2 |     - |    LP  |   0 |   3 |   2 |   2 |   0 |  0 |   0 |   0 |-2.940000e+02 |-2.940000e+02 |   0.00%| unknown\n",
            "  0.0s|     1 |     0 |     2 |     - |   604k |   0 |   3 |   2 |   2 |   0 |  0 |   0 |   0 |-2.940000e+02 |-2.940000e+02 |   0.00%| unknown\n",
            "\n",
            "SCIP Status        : problem is solved [optimal solution found]\n",
            "Solving Time (sec) : 0.00\n",
            "Solving Nodes      : 1\n",
            "Primal Bound       : -2.94000000000000e+02 (2 solutions)\n",
            "Dual Bound         : -2.94000000000000e+02\n",
            "Gap                : 0.00 %\n"
          ]
        }
      ]
    }
  ]
}